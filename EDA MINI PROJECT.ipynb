{
 "cells": [
  {
   "cell_type": "code",
   "execution_count": 2,
   "metadata": {},
   "outputs": [],
   "source": [
    "import numpy as np\n",
    "import pandas as pd\n",
    "import matplotlib.pyplot as plt\n",
    "import seaborn as sns\n",
    "import statistics"
   ]
  },
  {
   "cell_type": "code",
   "execution_count": 3,
   "metadata": {},
   "outputs": [],
   "source": [
    "fifa=pd.read_csv('fifa.csv',index_col='ID')"
   ]
  },
  {
   "cell_type": "code",
   "execution_count": 4,
   "metadata": {},
   "outputs": [
    {
     "data": {
      "text/html": [
       "<div>\n",
       "<style scoped>\n",
       "    .dataframe tbody tr th:only-of-type {\n",
       "        vertical-align: middle;\n",
       "    }\n",
       "\n",
       "    .dataframe tbody tr th {\n",
       "        vertical-align: top;\n",
       "    }\n",
       "\n",
       "    .dataframe thead th {\n",
       "        text-align: right;\n",
       "    }\n",
       "</style>\n",
       "<table border=\"1\" class=\"dataframe\">\n",
       "  <thead>\n",
       "    <tr style=\"text-align: right;\">\n",
       "      <th></th>\n",
       "      <th>Name</th>\n",
       "      <th>Age</th>\n",
       "      <th>Photo</th>\n",
       "      <th>Nationality</th>\n",
       "      <th>Flag</th>\n",
       "      <th>Overall</th>\n",
       "      <th>Potential</th>\n",
       "      <th>Club</th>\n",
       "      <th>Club Logo</th>\n",
       "      <th>Value</th>\n",
       "      <th>...</th>\n",
       "      <th>Composure</th>\n",
       "      <th>Marking</th>\n",
       "      <th>StandingTackle</th>\n",
       "      <th>SlidingTackle</th>\n",
       "      <th>GKDiving</th>\n",
       "      <th>GKHandling</th>\n",
       "      <th>GKKicking</th>\n",
       "      <th>GKPositioning</th>\n",
       "      <th>GKReflexes</th>\n",
       "      <th>Release Clause</th>\n",
       "    </tr>\n",
       "    <tr>\n",
       "      <th>ID</th>\n",
       "      <th></th>\n",
       "      <th></th>\n",
       "      <th></th>\n",
       "      <th></th>\n",
       "      <th></th>\n",
       "      <th></th>\n",
       "      <th></th>\n",
       "      <th></th>\n",
       "      <th></th>\n",
       "      <th></th>\n",
       "      <th></th>\n",
       "      <th></th>\n",
       "      <th></th>\n",
       "      <th></th>\n",
       "      <th></th>\n",
       "      <th></th>\n",
       "      <th></th>\n",
       "      <th></th>\n",
       "      <th></th>\n",
       "      <th></th>\n",
       "      <th></th>\n",
       "    </tr>\n",
       "  </thead>\n",
       "  <tbody>\n",
       "    <tr>\n",
       "      <th>158023</th>\n",
       "      <td>L. Messi</td>\n",
       "      <td>31</td>\n",
       "      <td>https://cdn.sofifa.org/players/4/19/158023.png</td>\n",
       "      <td>Argentina</td>\n",
       "      <td>https://cdn.sofifa.org/flags/52.png</td>\n",
       "      <td>94</td>\n",
       "      <td>94</td>\n",
       "      <td>FC Barcelona</td>\n",
       "      <td>https://cdn.sofifa.org/teams/2/light/241.png</td>\n",
       "      <td>€110.5M</td>\n",
       "      <td>...</td>\n",
       "      <td>96.0</td>\n",
       "      <td>33.0</td>\n",
       "      <td>28.0</td>\n",
       "      <td>26.0</td>\n",
       "      <td>6.0</td>\n",
       "      <td>11.0</td>\n",
       "      <td>15.0</td>\n",
       "      <td>14.0</td>\n",
       "      <td>8.0</td>\n",
       "      <td>€226.5M</td>\n",
       "    </tr>\n",
       "    <tr>\n",
       "      <th>20801</th>\n",
       "      <td>Cristiano Ronaldo</td>\n",
       "      <td>33</td>\n",
       "      <td>https://cdn.sofifa.org/players/4/19/20801.png</td>\n",
       "      <td>Portugal</td>\n",
       "      <td>https://cdn.sofifa.org/flags/38.png</td>\n",
       "      <td>94</td>\n",
       "      <td>94</td>\n",
       "      <td>Juventus</td>\n",
       "      <td>https://cdn.sofifa.org/teams/2/light/45.png</td>\n",
       "      <td>€77M</td>\n",
       "      <td>...</td>\n",
       "      <td>95.0</td>\n",
       "      <td>28.0</td>\n",
       "      <td>31.0</td>\n",
       "      <td>23.0</td>\n",
       "      <td>7.0</td>\n",
       "      <td>11.0</td>\n",
       "      <td>15.0</td>\n",
       "      <td>14.0</td>\n",
       "      <td>11.0</td>\n",
       "      <td>€127.1M</td>\n",
       "    </tr>\n",
       "    <tr>\n",
       "      <th>190871</th>\n",
       "      <td>Neymar Jr</td>\n",
       "      <td>26</td>\n",
       "      <td>https://cdn.sofifa.org/players/4/19/190871.png</td>\n",
       "      <td>Brazil</td>\n",
       "      <td>https://cdn.sofifa.org/flags/54.png</td>\n",
       "      <td>92</td>\n",
       "      <td>93</td>\n",
       "      <td>Paris Saint-Germain</td>\n",
       "      <td>https://cdn.sofifa.org/teams/2/light/73.png</td>\n",
       "      <td>€118.5M</td>\n",
       "      <td>...</td>\n",
       "      <td>94.0</td>\n",
       "      <td>27.0</td>\n",
       "      <td>24.0</td>\n",
       "      <td>33.0</td>\n",
       "      <td>9.0</td>\n",
       "      <td>9.0</td>\n",
       "      <td>15.0</td>\n",
       "      <td>15.0</td>\n",
       "      <td>11.0</td>\n",
       "      <td>€228.1M</td>\n",
       "    </tr>\n",
       "    <tr>\n",
       "      <th>193080</th>\n",
       "      <td>De Gea</td>\n",
       "      <td>27</td>\n",
       "      <td>https://cdn.sofifa.org/players/4/19/193080.png</td>\n",
       "      <td>Spain</td>\n",
       "      <td>https://cdn.sofifa.org/flags/45.png</td>\n",
       "      <td>91</td>\n",
       "      <td>93</td>\n",
       "      <td>Manchester United</td>\n",
       "      <td>https://cdn.sofifa.org/teams/2/light/11.png</td>\n",
       "      <td>€72M</td>\n",
       "      <td>...</td>\n",
       "      <td>68.0</td>\n",
       "      <td>15.0</td>\n",
       "      <td>21.0</td>\n",
       "      <td>13.0</td>\n",
       "      <td>90.0</td>\n",
       "      <td>85.0</td>\n",
       "      <td>87.0</td>\n",
       "      <td>88.0</td>\n",
       "      <td>94.0</td>\n",
       "      <td>€138.6M</td>\n",
       "    </tr>\n",
       "    <tr>\n",
       "      <th>192985</th>\n",
       "      <td>K. De Bruyne</td>\n",
       "      <td>27</td>\n",
       "      <td>https://cdn.sofifa.org/players/4/19/192985.png</td>\n",
       "      <td>Belgium</td>\n",
       "      <td>https://cdn.sofifa.org/flags/7.png</td>\n",
       "      <td>91</td>\n",
       "      <td>92</td>\n",
       "      <td>Manchester City</td>\n",
       "      <td>https://cdn.sofifa.org/teams/2/light/10.png</td>\n",
       "      <td>€102M</td>\n",
       "      <td>...</td>\n",
       "      <td>88.0</td>\n",
       "      <td>68.0</td>\n",
       "      <td>58.0</td>\n",
       "      <td>51.0</td>\n",
       "      <td>15.0</td>\n",
       "      <td>13.0</td>\n",
       "      <td>5.0</td>\n",
       "      <td>10.0</td>\n",
       "      <td>13.0</td>\n",
       "      <td>€196.4M</td>\n",
       "    </tr>\n",
       "  </tbody>\n",
       "</table>\n",
       "<p>5 rows × 59 columns</p>\n",
       "</div>"
      ],
      "text/plain": [
       "                     Name  Age  \\\n",
       "ID                               \n",
       "158023           L. Messi   31   \n",
       "20801   Cristiano Ronaldo   33   \n",
       "190871          Neymar Jr   26   \n",
       "193080             De Gea   27   \n",
       "192985       K. De Bruyne   27   \n",
       "\n",
       "                                                 Photo Nationality  \\\n",
       "ID                                                                   \n",
       "158023  https://cdn.sofifa.org/players/4/19/158023.png   Argentina   \n",
       "20801    https://cdn.sofifa.org/players/4/19/20801.png    Portugal   \n",
       "190871  https://cdn.sofifa.org/players/4/19/190871.png      Brazil   \n",
       "193080  https://cdn.sofifa.org/players/4/19/193080.png       Spain   \n",
       "192985  https://cdn.sofifa.org/players/4/19/192985.png     Belgium   \n",
       "\n",
       "                                       Flag  Overall  Potential  \\\n",
       "ID                                                                \n",
       "158023  https://cdn.sofifa.org/flags/52.png       94         94   \n",
       "20801   https://cdn.sofifa.org/flags/38.png       94         94   \n",
       "190871  https://cdn.sofifa.org/flags/54.png       92         93   \n",
       "193080  https://cdn.sofifa.org/flags/45.png       91         93   \n",
       "192985   https://cdn.sofifa.org/flags/7.png       91         92   \n",
       "\n",
       "                       Club                                     Club Logo  \\\n",
       "ID                                                                          \n",
       "158023         FC Barcelona  https://cdn.sofifa.org/teams/2/light/241.png   \n",
       "20801              Juventus   https://cdn.sofifa.org/teams/2/light/45.png   \n",
       "190871  Paris Saint-Germain   https://cdn.sofifa.org/teams/2/light/73.png   \n",
       "193080    Manchester United   https://cdn.sofifa.org/teams/2/light/11.png   \n",
       "192985      Manchester City   https://cdn.sofifa.org/teams/2/light/10.png   \n",
       "\n",
       "          Value  ... Composure Marking  StandingTackle  SlidingTackle  \\\n",
       "ID               ...                                                    \n",
       "158023  €110.5M  ...      96.0    33.0            28.0           26.0   \n",
       "20801      €77M  ...      95.0    28.0            31.0           23.0   \n",
       "190871  €118.5M  ...      94.0    27.0            24.0           33.0   \n",
       "193080     €72M  ...      68.0    15.0            21.0           13.0   \n",
       "192985    €102M  ...      88.0    68.0            58.0           51.0   \n",
       "\n",
       "        GKDiving GKHandling GKKicking GKPositioning  GKReflexes Release Clause  \n",
       "ID                                                                              \n",
       "158023       6.0       11.0      15.0          14.0         8.0        €226.5M  \n",
       "20801        7.0       11.0      15.0          14.0        11.0        €127.1M  \n",
       "190871       9.0        9.0      15.0          15.0        11.0        €228.1M  \n",
       "193080      90.0       85.0      87.0          88.0        94.0        €138.6M  \n",
       "192985      15.0       13.0       5.0          10.0        13.0        €196.4M  \n",
       "\n",
       "[5 rows x 59 columns]"
      ]
     },
     "execution_count": 4,
     "metadata": {},
     "output_type": "execute_result"
    }
   ],
   "source": [
    "fifa.head()"
   ]
  },
  {
   "cell_type": "code",
   "execution_count": 5,
   "metadata": {},
   "outputs": [
    {
     "data": {
      "text/plain": [
       "(18207, 59)"
      ]
     },
     "execution_count": 5,
     "metadata": {},
     "output_type": "execute_result"
    }
   ],
   "source": [
    "fifa.shape"
   ]
  },
  {
   "cell_type": "code",
   "execution_count": 6,
   "metadata": {},
   "outputs": [
    {
     "data": {
      "text/plain": [
       "Index(['Name', 'Age', 'Photo', 'Nationality', 'Flag', 'Overall', 'Potential',\n",
       "       'Club', 'Club Logo', 'Value', 'Wage', 'Preferred Foot',\n",
       "       'International Reputation', 'Weak Foot', 'Skill Moves', 'Work Rate',\n",
       "       'Body Type', 'Position', 'Jersey Number', 'Joined', 'Loaned From',\n",
       "       'Contract Valid Until', 'Height', 'Weight', 'Crossing', 'Finishing',\n",
       "       'HeadingAccuracy', 'ShortPassing', 'Volleys', 'Dribbling', 'Curve',\n",
       "       'FKAccuracy', 'LongPassing', 'BallControl', 'Acceleration',\n",
       "       'SprintSpeed', 'Agility', 'Reactions', 'Balance', 'ShotPower',\n",
       "       'Jumping', 'Stamina', 'Strength', 'LongShots', 'Aggression',\n",
       "       'Interceptions', 'Positioning', 'Vision', 'Penalties', 'Composure',\n",
       "       'Marking', 'StandingTackle', 'SlidingTackle', 'GKDiving', 'GKHandling',\n",
       "       'GKKicking', 'GKPositioning', 'GKReflexes', 'Release Clause'],\n",
       "      dtype='object')"
      ]
     },
     "execution_count": 6,
     "metadata": {},
     "output_type": "execute_result"
    }
   ],
   "source": [
    "fifa.columns"
   ]
  },
  {
   "cell_type": "code",
   "execution_count": 7,
   "metadata": {},
   "outputs": [],
   "source": [
    "fifa.drop(['Name','Photo','Nationality','Flag','Club','Club Logo','Jersey Number'],axis=1,inplace=True)"
   ]
  },
  {
   "cell_type": "code",
   "execution_count": 8,
   "metadata": {},
   "outputs": [
    {
     "data": {
      "text/plain": [
       "(18207, 52)"
      ]
     },
     "execution_count": 8,
     "metadata": {},
     "output_type": "execute_result"
    }
   ],
   "source": [
    "fifa.shape"
   ]
  },
  {
   "cell_type": "code",
   "execution_count": 9,
   "metadata": {},
   "outputs": [
    {
     "data": {
      "text/html": [
       "<div>\n",
       "<style scoped>\n",
       "    .dataframe tbody tr th:only-of-type {\n",
       "        vertical-align: middle;\n",
       "    }\n",
       "\n",
       "    .dataframe tbody tr th {\n",
       "        vertical-align: top;\n",
       "    }\n",
       "\n",
       "    .dataframe thead th {\n",
       "        text-align: right;\n",
       "    }\n",
       "</style>\n",
       "<table border=\"1\" class=\"dataframe\">\n",
       "  <thead>\n",
       "    <tr style=\"text-align: right;\">\n",
       "      <th></th>\n",
       "      <th>Age</th>\n",
       "      <th>Overall</th>\n",
       "      <th>Potential</th>\n",
       "      <th>Value</th>\n",
       "      <th>Wage</th>\n",
       "      <th>Preferred Foot</th>\n",
       "      <th>International Reputation</th>\n",
       "      <th>Weak Foot</th>\n",
       "      <th>Skill Moves</th>\n",
       "      <th>Work Rate</th>\n",
       "      <th>...</th>\n",
       "      <th>Composure</th>\n",
       "      <th>Marking</th>\n",
       "      <th>StandingTackle</th>\n",
       "      <th>SlidingTackle</th>\n",
       "      <th>GKDiving</th>\n",
       "      <th>GKHandling</th>\n",
       "      <th>GKKicking</th>\n",
       "      <th>GKPositioning</th>\n",
       "      <th>GKReflexes</th>\n",
       "      <th>Release Clause</th>\n",
       "    </tr>\n",
       "    <tr>\n",
       "      <th>ID</th>\n",
       "      <th></th>\n",
       "      <th></th>\n",
       "      <th></th>\n",
       "      <th></th>\n",
       "      <th></th>\n",
       "      <th></th>\n",
       "      <th></th>\n",
       "      <th></th>\n",
       "      <th></th>\n",
       "      <th></th>\n",
       "      <th></th>\n",
       "      <th></th>\n",
       "      <th></th>\n",
       "      <th></th>\n",
       "      <th></th>\n",
       "      <th></th>\n",
       "      <th></th>\n",
       "      <th></th>\n",
       "      <th></th>\n",
       "      <th></th>\n",
       "      <th></th>\n",
       "    </tr>\n",
       "  </thead>\n",
       "  <tbody>\n",
       "    <tr>\n",
       "      <th>158023</th>\n",
       "      <td>31</td>\n",
       "      <td>94</td>\n",
       "      <td>94</td>\n",
       "      <td>€110.5M</td>\n",
       "      <td>€565K</td>\n",
       "      <td>Left</td>\n",
       "      <td>5.0</td>\n",
       "      <td>4.0</td>\n",
       "      <td>4.0</td>\n",
       "      <td>Medium/ Medium</td>\n",
       "      <td>...</td>\n",
       "      <td>96.0</td>\n",
       "      <td>33.0</td>\n",
       "      <td>28.0</td>\n",
       "      <td>26.0</td>\n",
       "      <td>6.0</td>\n",
       "      <td>11.0</td>\n",
       "      <td>15.0</td>\n",
       "      <td>14.0</td>\n",
       "      <td>8.0</td>\n",
       "      <td>€226.5M</td>\n",
       "    </tr>\n",
       "    <tr>\n",
       "      <th>20801</th>\n",
       "      <td>33</td>\n",
       "      <td>94</td>\n",
       "      <td>94</td>\n",
       "      <td>€77M</td>\n",
       "      <td>€405K</td>\n",
       "      <td>Right</td>\n",
       "      <td>5.0</td>\n",
       "      <td>4.0</td>\n",
       "      <td>5.0</td>\n",
       "      <td>High/ Low</td>\n",
       "      <td>...</td>\n",
       "      <td>95.0</td>\n",
       "      <td>28.0</td>\n",
       "      <td>31.0</td>\n",
       "      <td>23.0</td>\n",
       "      <td>7.0</td>\n",
       "      <td>11.0</td>\n",
       "      <td>15.0</td>\n",
       "      <td>14.0</td>\n",
       "      <td>11.0</td>\n",
       "      <td>€127.1M</td>\n",
       "    </tr>\n",
       "    <tr>\n",
       "      <th>190871</th>\n",
       "      <td>26</td>\n",
       "      <td>92</td>\n",
       "      <td>93</td>\n",
       "      <td>€118.5M</td>\n",
       "      <td>€290K</td>\n",
       "      <td>Right</td>\n",
       "      <td>5.0</td>\n",
       "      <td>5.0</td>\n",
       "      <td>5.0</td>\n",
       "      <td>High/ Medium</td>\n",
       "      <td>...</td>\n",
       "      <td>94.0</td>\n",
       "      <td>27.0</td>\n",
       "      <td>24.0</td>\n",
       "      <td>33.0</td>\n",
       "      <td>9.0</td>\n",
       "      <td>9.0</td>\n",
       "      <td>15.0</td>\n",
       "      <td>15.0</td>\n",
       "      <td>11.0</td>\n",
       "      <td>€228.1M</td>\n",
       "    </tr>\n",
       "    <tr>\n",
       "      <th>193080</th>\n",
       "      <td>27</td>\n",
       "      <td>91</td>\n",
       "      <td>93</td>\n",
       "      <td>€72M</td>\n",
       "      <td>€260K</td>\n",
       "      <td>Right</td>\n",
       "      <td>4.0</td>\n",
       "      <td>3.0</td>\n",
       "      <td>1.0</td>\n",
       "      <td>Medium/ Medium</td>\n",
       "      <td>...</td>\n",
       "      <td>68.0</td>\n",
       "      <td>15.0</td>\n",
       "      <td>21.0</td>\n",
       "      <td>13.0</td>\n",
       "      <td>90.0</td>\n",
       "      <td>85.0</td>\n",
       "      <td>87.0</td>\n",
       "      <td>88.0</td>\n",
       "      <td>94.0</td>\n",
       "      <td>€138.6M</td>\n",
       "    </tr>\n",
       "    <tr>\n",
       "      <th>192985</th>\n",
       "      <td>27</td>\n",
       "      <td>91</td>\n",
       "      <td>92</td>\n",
       "      <td>€102M</td>\n",
       "      <td>€355K</td>\n",
       "      <td>Right</td>\n",
       "      <td>4.0</td>\n",
       "      <td>5.0</td>\n",
       "      <td>4.0</td>\n",
       "      <td>High/ High</td>\n",
       "      <td>...</td>\n",
       "      <td>88.0</td>\n",
       "      <td>68.0</td>\n",
       "      <td>58.0</td>\n",
       "      <td>51.0</td>\n",
       "      <td>15.0</td>\n",
       "      <td>13.0</td>\n",
       "      <td>5.0</td>\n",
       "      <td>10.0</td>\n",
       "      <td>13.0</td>\n",
       "      <td>€196.4M</td>\n",
       "    </tr>\n",
       "  </tbody>\n",
       "</table>\n",
       "<p>5 rows × 52 columns</p>\n",
       "</div>"
      ],
      "text/plain": [
       "        Age  Overall  Potential    Value   Wage Preferred Foot  \\\n",
       "ID                                                               \n",
       "158023   31       94         94  €110.5M  €565K           Left   \n",
       "20801    33       94         94     €77M  €405K          Right   \n",
       "190871   26       92         93  €118.5M  €290K          Right   \n",
       "193080   27       91         93     €72M  €260K          Right   \n",
       "192985   27       91         92    €102M  €355K          Right   \n",
       "\n",
       "        International Reputation  Weak Foot  Skill Moves       Work Rate  ...  \\\n",
       "ID                                                                        ...   \n",
       "158023                       5.0        4.0          4.0  Medium/ Medium  ...   \n",
       "20801                        5.0        4.0          5.0       High/ Low  ...   \n",
       "190871                       5.0        5.0          5.0    High/ Medium  ...   \n",
       "193080                       4.0        3.0          1.0  Medium/ Medium  ...   \n",
       "192985                       4.0        5.0          4.0      High/ High  ...   \n",
       "\n",
       "       Composure Marking StandingTackle SlidingTackle GKDiving GKHandling  \\\n",
       "ID                                                                          \n",
       "158023      96.0    33.0           28.0          26.0      6.0       11.0   \n",
       "20801       95.0    28.0           31.0          23.0      7.0       11.0   \n",
       "190871      94.0    27.0           24.0          33.0      9.0        9.0   \n",
       "193080      68.0    15.0           21.0          13.0     90.0       85.0   \n",
       "192985      88.0    68.0           58.0          51.0     15.0       13.0   \n",
       "\n",
       "       GKKicking  GKPositioning  GKReflexes  Release Clause  \n",
       "ID                                                           \n",
       "158023      15.0           14.0         8.0         €226.5M  \n",
       "20801       15.0           14.0        11.0         €127.1M  \n",
       "190871      15.0           15.0        11.0         €228.1M  \n",
       "193080      87.0           88.0        94.0         €138.6M  \n",
       "192985       5.0           10.0        13.0         €196.4M  \n",
       "\n",
       "[5 rows x 52 columns]"
      ]
     },
     "execution_count": 9,
     "metadata": {},
     "output_type": "execute_result"
    }
   ],
   "source": [
    "fifa.head()"
   ]
  },
  {
   "cell_type": "code",
   "execution_count": 10,
   "metadata": {},
   "outputs": [
    {
     "data": {
      "text/plain": [
       "Index(['Age', 'Overall', 'Potential', 'Value', 'Wage', 'Preferred Foot',\n",
       "       'International Reputation', 'Weak Foot', 'Skill Moves', 'Work Rate',\n",
       "       'Body Type', 'Position', 'Joined', 'Loaned From',\n",
       "       'Contract Valid Until', 'Height', 'Weight', 'Crossing', 'Finishing',\n",
       "       'HeadingAccuracy', 'ShortPassing', 'Volleys', 'Dribbling', 'Curve',\n",
       "       'FKAccuracy', 'LongPassing', 'BallControl', 'Acceleration',\n",
       "       'SprintSpeed', 'Agility', 'Reactions', 'Balance', 'ShotPower',\n",
       "       'Jumping', 'Stamina', 'Strength', 'LongShots', 'Aggression',\n",
       "       'Interceptions', 'Positioning', 'Vision', 'Penalties', 'Composure',\n",
       "       'Marking', 'StandingTackle', 'SlidingTackle', 'GKDiving', 'GKHandling',\n",
       "       'GKKicking', 'GKPositioning', 'GKReflexes', 'Release Clause'],\n",
       "      dtype='object')"
      ]
     },
     "execution_count": 10,
     "metadata": {},
     "output_type": "execute_result"
    }
   ],
   "source": [
    "fifa.columns"
   ]
  },
  {
   "cell_type": "code",
   "execution_count": 11,
   "metadata": {},
   "outputs": [
    {
     "data": {
      "text/html": [
       "<div>\n",
       "<style scoped>\n",
       "    .dataframe tbody tr th:only-of-type {\n",
       "        vertical-align: middle;\n",
       "    }\n",
       "\n",
       "    .dataframe tbody tr th {\n",
       "        vertical-align: top;\n",
       "    }\n",
       "\n",
       "    .dataframe thead th {\n",
       "        text-align: right;\n",
       "    }\n",
       "</style>\n",
       "<table border=\"1\" class=\"dataframe\">\n",
       "  <thead>\n",
       "    <tr style=\"text-align: right;\">\n",
       "      <th></th>\n",
       "      <th>Body Type</th>\n",
       "      <th>Position</th>\n",
       "      <th>Joined</th>\n",
       "      <th>Loaned From</th>\n",
       "      <th>Contract Valid Until</th>\n",
       "    </tr>\n",
       "    <tr>\n",
       "      <th>ID</th>\n",
       "      <th></th>\n",
       "      <th></th>\n",
       "      <th></th>\n",
       "      <th></th>\n",
       "      <th></th>\n",
       "    </tr>\n",
       "  </thead>\n",
       "  <tbody>\n",
       "    <tr>\n",
       "      <th>158023</th>\n",
       "      <td>Messi</td>\n",
       "      <td>RF</td>\n",
       "      <td>Jul 1, 2004</td>\n",
       "      <td>NaN</td>\n",
       "      <td>2021</td>\n",
       "    </tr>\n",
       "    <tr>\n",
       "      <th>20801</th>\n",
       "      <td>C. Ronaldo</td>\n",
       "      <td>ST</td>\n",
       "      <td>Jul 10, 2018</td>\n",
       "      <td>NaN</td>\n",
       "      <td>2022</td>\n",
       "    </tr>\n",
       "    <tr>\n",
       "      <th>190871</th>\n",
       "      <td>Neymar</td>\n",
       "      <td>LW</td>\n",
       "      <td>Aug 3, 2017</td>\n",
       "      <td>NaN</td>\n",
       "      <td>2022</td>\n",
       "    </tr>\n",
       "    <tr>\n",
       "      <th>193080</th>\n",
       "      <td>Lean</td>\n",
       "      <td>GK</td>\n",
       "      <td>Jul 1, 2011</td>\n",
       "      <td>NaN</td>\n",
       "      <td>2020</td>\n",
       "    </tr>\n",
       "    <tr>\n",
       "      <th>192985</th>\n",
       "      <td>Normal</td>\n",
       "      <td>RCM</td>\n",
       "      <td>Aug 30, 2015</td>\n",
       "      <td>NaN</td>\n",
       "      <td>2023</td>\n",
       "    </tr>\n",
       "    <tr>\n",
       "      <th>...</th>\n",
       "      <td>...</td>\n",
       "      <td>...</td>\n",
       "      <td>...</td>\n",
       "      <td>...</td>\n",
       "      <td>...</td>\n",
       "    </tr>\n",
       "    <tr>\n",
       "      <th>238813</th>\n",
       "      <td>Lean</td>\n",
       "      <td>CM</td>\n",
       "      <td>May 3, 2017</td>\n",
       "      <td>NaN</td>\n",
       "      <td>2019</td>\n",
       "    </tr>\n",
       "    <tr>\n",
       "      <th>243165</th>\n",
       "      <td>Normal</td>\n",
       "      <td>ST</td>\n",
       "      <td>Mar 19, 2018</td>\n",
       "      <td>NaN</td>\n",
       "      <td>2020</td>\n",
       "    </tr>\n",
       "    <tr>\n",
       "      <th>241638</th>\n",
       "      <td>Normal</td>\n",
       "      <td>ST</td>\n",
       "      <td>Jul 1, 2017</td>\n",
       "      <td>NaN</td>\n",
       "      <td>2021</td>\n",
       "    </tr>\n",
       "    <tr>\n",
       "      <th>246268</th>\n",
       "      <td>Lean</td>\n",
       "      <td>RW</td>\n",
       "      <td>Apr 24, 2018</td>\n",
       "      <td>NaN</td>\n",
       "      <td>2019</td>\n",
       "    </tr>\n",
       "    <tr>\n",
       "      <th>246269</th>\n",
       "      <td>Lean</td>\n",
       "      <td>CM</td>\n",
       "      <td>Oct 30, 2018</td>\n",
       "      <td>NaN</td>\n",
       "      <td>2019</td>\n",
       "    </tr>\n",
       "  </tbody>\n",
       "</table>\n",
       "<p>18207 rows × 5 columns</p>\n",
       "</div>"
      ],
      "text/plain": [
       "         Body Type Position        Joined Loaned From Contract Valid Until\n",
       "ID                                                                        \n",
       "158023       Messi       RF   Jul 1, 2004         NaN                 2021\n",
       "20801   C. Ronaldo       ST  Jul 10, 2018         NaN                 2022\n",
       "190871      Neymar       LW   Aug 3, 2017         NaN                 2022\n",
       "193080        Lean       GK   Jul 1, 2011         NaN                 2020\n",
       "192985      Normal      RCM  Aug 30, 2015         NaN                 2023\n",
       "...            ...      ...           ...         ...                  ...\n",
       "238813        Lean       CM   May 3, 2017         NaN                 2019\n",
       "243165      Normal       ST  Mar 19, 2018         NaN                 2020\n",
       "241638      Normal       ST   Jul 1, 2017         NaN                 2021\n",
       "246268        Lean       RW  Apr 24, 2018         NaN                 2019\n",
       "246269        Lean       CM  Oct 30, 2018         NaN                 2019\n",
       "\n",
       "[18207 rows x 5 columns]"
      ]
     },
     "execution_count": 11,
     "metadata": {},
     "output_type": "execute_result"
    }
   ],
   "source": [
    "fifa[['Body Type', 'Position', 'Joined', 'Loaned From','Contract Valid Until']]"
   ]
  },
  {
   "cell_type": "code",
   "execution_count": 12,
   "metadata": {},
   "outputs": [
    {
     "data": {
      "text/plain": [
       "Age                             0\n",
       "Overall                         0\n",
       "Potential                       0\n",
       "Value                           0\n",
       "Wage                            0\n",
       "Preferred Foot                 48\n",
       "International Reputation       48\n",
       "Weak Foot                      48\n",
       "Skill Moves                    48\n",
       "Work Rate                      48\n",
       "Body Type                      48\n",
       "Position                       60\n",
       "Joined                       1553\n",
       "Loaned From                 16943\n",
       "Contract Valid Until          289\n",
       "Height                         48\n",
       "Weight                         48\n",
       "Crossing                       48\n",
       "Finishing                      48\n",
       "HeadingAccuracy                48\n",
       "ShortPassing                   48\n",
       "Volleys                        48\n",
       "Dribbling                      48\n",
       "Curve                          48\n",
       "FKAccuracy                     48\n",
       "LongPassing                    48\n",
       "BallControl                    48\n",
       "Acceleration                   48\n",
       "SprintSpeed                    48\n",
       "Agility                        48\n",
       "Reactions                      48\n",
       "Balance                        48\n",
       "ShotPower                      48\n",
       "Jumping                        48\n",
       "Stamina                        48\n",
       "Strength                       48\n",
       "LongShots                      48\n",
       "Aggression                     48\n",
       "Interceptions                  48\n",
       "Positioning                    48\n",
       "Vision                         48\n",
       "Penalties                      48\n",
       "Composure                      48\n",
       "Marking                        48\n",
       "StandingTackle                 48\n",
       "SlidingTackle                  48\n",
       "GKDiving                       48\n",
       "GKHandling                     48\n",
       "GKKicking                      48\n",
       "GKPositioning                  48\n",
       "GKReflexes                     48\n",
       "Release Clause               1564\n",
       "dtype: int64"
      ]
     },
     "execution_count": 12,
     "metadata": {},
     "output_type": "execute_result"
    }
   ],
   "source": [
    "fifa.isnull().sum()"
   ]
  },
  {
   "cell_type": "markdown",
   "metadata": {},
   "source": [
    "we can delete loaned from column as it has got 16943 null values of 18207 rows"
   ]
  },
  {
   "cell_type": "code",
   "execution_count": 13,
   "metadata": {},
   "outputs": [],
   "source": [
    "fifa.drop(['Loaned From'],axis=1,inplace=True)"
   ]
  },
  {
   "cell_type": "code",
   "execution_count": 14,
   "metadata": {},
   "outputs": [
    {
     "data": {
      "text/plain": [
       "(18207, 51)"
      ]
     },
     "execution_count": 14,
     "metadata": {},
     "output_type": "execute_result"
    }
   ],
   "source": [
    "fifa.shape"
   ]
  },
  {
   "cell_type": "code",
   "execution_count": 15,
   "metadata": {},
   "outputs": [
    {
     "name": "stdout",
     "output_type": "stream",
     "text": [
      "<class 'pandas.core.frame.DataFrame'>\n",
      "Int64Index: 18207 entries, 158023 to 246269\n",
      "Data columns (total 51 columns):\n",
      " #   Column                    Non-Null Count  Dtype  \n",
      "---  ------                    --------------  -----  \n",
      " 0   Age                       18207 non-null  int64  \n",
      " 1   Overall                   18207 non-null  int64  \n",
      " 2   Potential                 18207 non-null  int64  \n",
      " 3   Value                     18207 non-null  object \n",
      " 4   Wage                      18207 non-null  object \n",
      " 5   Preferred Foot            18159 non-null  object \n",
      " 6   International Reputation  18159 non-null  float64\n",
      " 7   Weak Foot                 18159 non-null  float64\n",
      " 8   Skill Moves               18159 non-null  float64\n",
      " 9   Work Rate                 18159 non-null  object \n",
      " 10  Body Type                 18159 non-null  object \n",
      " 11  Position                  18147 non-null  object \n",
      " 12  Joined                    16654 non-null  object \n",
      " 13  Contract Valid Until      17918 non-null  object \n",
      " 14  Height                    18159 non-null  object \n",
      " 15  Weight                    18159 non-null  object \n",
      " 16  Crossing                  18159 non-null  float64\n",
      " 17  Finishing                 18159 non-null  float64\n",
      " 18  HeadingAccuracy           18159 non-null  float64\n",
      " 19  ShortPassing              18159 non-null  float64\n",
      " 20  Volleys                   18159 non-null  float64\n",
      " 21  Dribbling                 18159 non-null  float64\n",
      " 22  Curve                     18159 non-null  float64\n",
      " 23  FKAccuracy                18159 non-null  float64\n",
      " 24  LongPassing               18159 non-null  float64\n",
      " 25  BallControl               18159 non-null  float64\n",
      " 26  Acceleration              18159 non-null  float64\n",
      " 27  SprintSpeed               18159 non-null  float64\n",
      " 28  Agility                   18159 non-null  float64\n",
      " 29  Reactions                 18159 non-null  float64\n",
      " 30  Balance                   18159 non-null  float64\n",
      " 31  ShotPower                 18159 non-null  float64\n",
      " 32  Jumping                   18159 non-null  float64\n",
      " 33  Stamina                   18159 non-null  float64\n",
      " 34  Strength                  18159 non-null  float64\n",
      " 35  LongShots                 18159 non-null  float64\n",
      " 36  Aggression                18159 non-null  float64\n",
      " 37  Interceptions             18159 non-null  float64\n",
      " 38  Positioning               18159 non-null  float64\n",
      " 39  Vision                    18159 non-null  float64\n",
      " 40  Penalties                 18159 non-null  float64\n",
      " 41  Composure                 18159 non-null  float64\n",
      " 42  Marking                   18159 non-null  float64\n",
      " 43  StandingTackle            18159 non-null  float64\n",
      " 44  SlidingTackle             18159 non-null  float64\n",
      " 45  GKDiving                  18159 non-null  float64\n",
      " 46  GKHandling                18159 non-null  float64\n",
      " 47  GKKicking                 18159 non-null  float64\n",
      " 48  GKPositioning             18159 non-null  float64\n",
      " 49  GKReflexes                18159 non-null  float64\n",
      " 50  Release Clause            16643 non-null  object \n",
      "dtypes: float64(37), int64(3), object(11)\n",
      "memory usage: 7.2+ MB\n"
     ]
    }
   ],
   "source": [
    "fifa.info()"
   ]
  },
  {
   "cell_type": "markdown",
   "metadata": {},
   "source": [
    "# \tThe following columns need to be converted for further analysis:"
   ]
  },
  {
   "cell_type": "code",
   "execution_count": 16,
   "metadata": {},
   "outputs": [],
   "source": [
    "fifa['Value']=fifa['Value'].str.replace('€','')"
   ]
  },
  {
   "cell_type": "code",
   "execution_count": 17,
   "metadata": {},
   "outputs": [],
   "source": [
    "dict1 = {'[kK]': '*1e3', '[mM]': '*1e6'}\n",
    "fifa['Value']=fifa['Value'].replace(dict1, regex=True).map(pd.eval)             "
   ]
  },
  {
   "cell_type": "code",
   "execution_count": 18,
   "metadata": {},
   "outputs": [
    {
     "data": {
      "text/plain": [
       "ID\n",
       "158023    110500000.0\n",
       "20801      77000000.0\n",
       "190871    118500000.0\n",
       "193080     72000000.0\n",
       "192985    102000000.0\n",
       "             ...     \n",
       "238813        60000.0\n",
       "243165        60000.0\n",
       "241638        60000.0\n",
       "246268        60000.0\n",
       "246269        60000.0\n",
       "Name: Value, Length: 18207, dtype: float64"
      ]
     },
     "execution_count": 18,
     "metadata": {},
     "output_type": "execute_result"
    }
   ],
   "source": [
    "fifa['Value']"
   ]
  },
  {
   "cell_type": "code",
   "execution_count": 19,
   "metadata": {},
   "outputs": [
    {
     "data": {
      "text/plain": [
       "ID\n",
       "158023    €565K\n",
       "20801     €405K\n",
       "190871    €290K\n",
       "193080    €260K\n",
       "192985    €355K\n",
       "Name: Wage, dtype: object"
      ]
     },
     "execution_count": 19,
     "metadata": {},
     "output_type": "execute_result"
    }
   ],
   "source": [
    "fifa['Wage'].head()"
   ]
  },
  {
   "cell_type": "code",
   "execution_count": 20,
   "metadata": {},
   "outputs": [],
   "source": [
    "fifa['Wage']=fifa['Wage'].str.replace('€','')"
   ]
  },
  {
   "cell_type": "code",
   "execution_count": 21,
   "metadata": {},
   "outputs": [],
   "source": [
    "fifa['Wage']=fifa['Wage'].replace(dict1,regex=True).map(pd.eval)"
   ]
  },
  {
   "cell_type": "code",
   "execution_count": 22,
   "metadata": {},
   "outputs": [
    {
     "data": {
      "text/plain": [
       "ID\n",
       "158023     Jul 1, 2004\n",
       "20801     Jul 10, 2018\n",
       "190871     Aug 3, 2017\n",
       "193080     Jul 1, 2011\n",
       "192985    Aug 30, 2015\n",
       "Name: Joined, dtype: object"
      ]
     },
     "execution_count": 22,
     "metadata": {},
     "output_type": "execute_result"
    }
   ],
   "source": [
    "fifa['Joined'].head()"
   ]
  },
  {
   "cell_type": "code",
   "execution_count": 23,
   "metadata": {},
   "outputs": [],
   "source": [
    "import re"
   ]
  },
  {
   "cell_type": "code",
   "execution_count": 24,
   "metadata": {},
   "outputs": [
    {
     "data": {
      "text/plain": [
       "1553"
      ]
     },
     "execution_count": 24,
     "metadata": {},
     "output_type": "execute_result"
    }
   ],
   "source": [
    "fifa['Joined'].isnull().sum()"
   ]
  },
  {
   "cell_type": "code",
   "execution_count": 25,
   "metadata": {},
   "outputs": [],
   "source": [
    "fifa['Joined'].fillna('0000',inplace=True)"
   ]
  },
  {
   "cell_type": "code",
   "execution_count": 26,
   "metadata": {},
   "outputs": [
    {
     "data": {
      "text/plain": [
       "ID\n",
       "158023     Jul 1, 2004\n",
       "20801     Jul 10, 2018\n",
       "190871     Aug 3, 2017\n",
       "193080     Jul 1, 2011\n",
       "192985    Aug 30, 2015\n",
       "Name: Joined, dtype: object"
      ]
     },
     "execution_count": 26,
     "metadata": {},
     "output_type": "execute_result"
    }
   ],
   "source": [
    "fifa['Joined'].head()"
   ]
  },
  {
   "cell_type": "code",
   "execution_count": 27,
   "metadata": {},
   "outputs": [],
   "source": [
    "fifa['Joined']=fifa['Joined'].str.extract(pat='(\\d{4})').astype(int)"
   ]
  },
  {
   "cell_type": "code",
   "execution_count": 28,
   "metadata": {},
   "outputs": [
    {
     "data": {
      "text/plain": [
       "ID\n",
       "158023    2004\n",
       "20801     2018\n",
       "190871    2017\n",
       "193080    2011\n",
       "192985    2015\n",
       "Name: Joined, dtype: int32"
      ]
     },
     "execution_count": 28,
     "metadata": {},
     "output_type": "execute_result"
    }
   ],
   "source": [
    "fifa['Joined'].head()"
   ]
  },
  {
   "cell_type": "code",
   "execution_count": 29,
   "metadata": {},
   "outputs": [
    {
     "data": {
      "text/plain": [
       "Feb 27, 2020    1\n",
       "Jan 20, 2019    1\n",
       "Jan 4, 2019     1\n",
       "Jan 15, 2019    1\n",
       "May 4, 2019     1\n",
       "Jan 30, 2019    1\n",
       "Jan 18, 2019    1\n",
       "Name: Contract Valid Until, dtype: int64"
      ]
     },
     "execution_count": 29,
     "metadata": {},
     "output_type": "execute_result"
    }
   ],
   "source": [
    "fifa['Contract Valid Until'].value_counts().tail(7)"
   ]
  },
  {
   "cell_type": "code",
   "execution_count": 30,
   "metadata": {},
   "outputs": [
    {
     "data": {
      "text/plain": [
       "289"
      ]
     },
     "execution_count": 30,
     "metadata": {},
     "output_type": "execute_result"
    }
   ],
   "source": [
    "fifa['Contract Valid Until'].isnull().sum()"
   ]
  },
  {
   "cell_type": "markdown",
   "metadata": {},
   "source": [
    "since contract valid till is not mentioned we can give any value for now"
   ]
  },
  {
   "cell_type": "code",
   "execution_count": 31,
   "metadata": {},
   "outputs": [],
   "source": [
    "fifa['Contract Valid Until'].fillna('Jan 3, 2019',inplace=True)"
   ]
  },
  {
   "cell_type": "code",
   "execution_count": 32,
   "metadata": {},
   "outputs": [],
   "source": [
    "fifa['Contract Valid Until']=fifa['Contract Valid Until'].apply(lambda x:pd.to_datetime(x))"
   ]
  },
  {
   "cell_type": "code",
   "execution_count": 33,
   "metadata": {},
   "outputs": [
    {
     "data": {
      "text/plain": [
       "ID\n",
       "158023   2021-01-01\n",
       "20801    2022-01-01\n",
       "190871   2022-01-01\n",
       "193080   2020-01-01\n",
       "192985   2023-01-01\n",
       "Name: Contract Valid Until, dtype: datetime64[ns]"
      ]
     },
     "execution_count": 33,
     "metadata": {},
     "output_type": "execute_result"
    }
   ],
   "source": [
    "fifa['Contract Valid Until'].head()"
   ]
  },
  {
   "cell_type": "code",
   "execution_count": 34,
   "metadata": {},
   "outputs": [
    {
     "data": {
      "text/plain": [
       "ID\n",
       "158023     5'7\n",
       "20801      6'2\n",
       "190871     5'9\n",
       "193080     6'4\n",
       "192985    5'11\n",
       "Name: Height, dtype: object"
      ]
     },
     "execution_count": 34,
     "metadata": {},
     "output_type": "execute_result"
    }
   ],
   "source": [
    "fifa['Height'].head()"
   ]
  },
  {
   "cell_type": "code",
   "execution_count": 35,
   "metadata": {},
   "outputs": [],
   "source": [
    "fifa['Height']=fifa['Height'].str.replace(\"'\",'.').astype(float)"
   ]
  },
  {
   "cell_type": "code",
   "execution_count": 36,
   "metadata": {},
   "outputs": [
    {
     "data": {
      "text/plain": [
       "ID\n",
       "158023    5.7\n",
       "Name: Height, dtype: float64"
      ]
     },
     "execution_count": 36,
     "metadata": {},
     "output_type": "execute_result"
    }
   ],
   "source": [
    "fifa['Height'].head(1)"
   ]
  },
  {
   "cell_type": "code",
   "execution_count": 37,
   "metadata": {},
   "outputs": [
    {
     "data": {
      "text/plain": [
       "ID\n",
       "158023    159lbs\n",
       "20801     183lbs\n",
       "190871    150lbs\n",
       "193080    168lbs\n",
       "192985    154lbs\n",
       "Name: Weight, dtype: object"
      ]
     },
     "execution_count": 37,
     "metadata": {},
     "output_type": "execute_result"
    }
   ],
   "source": [
    "fifa['Weight'].head()"
   ]
  },
  {
   "cell_type": "code",
   "execution_count": 38,
   "metadata": {},
   "outputs": [],
   "source": [
    "fifa['Weight']=fifa['Weight'].str.replace('lbs','').astype(float)"
   ]
  },
  {
   "cell_type": "code",
   "execution_count": 39,
   "metadata": {},
   "outputs": [
    {
     "data": {
      "text/plain": [
       "ID\n",
       "158023    159.0\n",
       "Name: Weight, dtype: float64"
      ]
     },
     "execution_count": 39,
     "metadata": {},
     "output_type": "execute_result"
    }
   ],
   "source": [
    "fifa['Weight'].head(1)"
   ]
  },
  {
   "cell_type": "code",
   "execution_count": 40,
   "metadata": {},
   "outputs": [
    {
     "data": {
      "text/plain": [
       "ID\n",
       "158023    €226.5M\n",
       "20801     €127.1M\n",
       "190871    €228.1M\n",
       "193080    €138.6M\n",
       "192985    €196.4M\n",
       "Name: Release Clause, dtype: object"
      ]
     },
     "execution_count": 40,
     "metadata": {},
     "output_type": "execute_result"
    }
   ],
   "source": [
    "fifa['Release Clause'].head()"
   ]
  },
  {
   "cell_type": "code",
   "execution_count": 41,
   "metadata": {},
   "outputs": [
    {
     "data": {
      "text/plain": [
       "1564"
      ]
     },
     "execution_count": 41,
     "metadata": {},
     "output_type": "execute_result"
    }
   ],
   "source": [
    "fifa['Release Clause'].isnull().sum()"
   ]
  },
  {
   "cell_type": "markdown",
   "metadata": {},
   "source": [
    "as we cannot find mean of a object column we are going with mode"
   ]
  },
  {
   "cell_type": "code",
   "execution_count": 42,
   "metadata": {},
   "outputs": [],
   "source": [
    "fifa['Release Clause']=fifa['Release Clause'].str.replace('€','')"
   ]
  },
  {
   "cell_type": "code",
   "execution_count": 43,
   "metadata": {},
   "outputs": [],
   "source": [
    "fifa['Release Clause'].fillna(fifa['Release Clause'].mode()[0],inplace=True)"
   ]
  },
  {
   "cell_type": "code",
   "execution_count": 44,
   "metadata": {},
   "outputs": [],
   "source": [
    "fifa['Release Clause']=fifa['Release Clause'].replace(dict1,regex=True).map(pd.eval)"
   ]
  },
  {
   "cell_type": "code",
   "execution_count": 45,
   "metadata": {},
   "outputs": [
    {
     "data": {
      "text/plain": [
       "1100000.0"
      ]
     },
     "execution_count": 45,
     "metadata": {},
     "output_type": "execute_result"
    }
   ],
   "source": [
    "fifa['Release Clause'].mode()[0]"
   ]
  },
  {
   "cell_type": "code",
   "execution_count": 46,
   "metadata": {},
   "outputs": [
    {
     "data": {
      "text/plain": [
       "Index(['Preferred Foot', 'Work Rate', 'Body Type', 'Position'], dtype='object')"
      ]
     },
     "execution_count": 46,
     "metadata": {},
     "output_type": "execute_result"
    }
   ],
   "source": [
    "fifa.select_dtypes(include=['object']).columns"
   ]
  },
  {
   "cell_type": "code",
   "execution_count": 47,
   "metadata": {},
   "outputs": [],
   "source": [
    "fifa['Preferred Foot'].fillna(fifa['Preferred Foot'].mode()[0],inplace=True)"
   ]
  },
  {
   "cell_type": "code",
   "execution_count": 48,
   "metadata": {},
   "outputs": [],
   "source": [
    "fifa['Work Rate'].fillna(fifa['Work Rate'].mode()[0],inplace=True)"
   ]
  },
  {
   "cell_type": "code",
   "execution_count": 49,
   "metadata": {},
   "outputs": [],
   "source": [
    "fifa['Body Type'].fillna(fifa['Body Type'].mode()[0],inplace=True)"
   ]
  },
  {
   "cell_type": "code",
   "execution_count": 50,
   "metadata": {},
   "outputs": [],
   "source": [
    "fifa['Position'].fillna(fifa['Position'].mode()[0],inplace=True)"
   ]
  },
  {
   "cell_type": "code",
   "execution_count": 51,
   "metadata": {},
   "outputs": [
    {
     "name": "stdout",
     "output_type": "stream",
     "text": [
      "<class 'pandas.core.frame.DataFrame'>\n",
      "Int64Index: 18207 entries, 158023 to 246269\n",
      "Data columns (total 51 columns):\n",
      " #   Column                    Non-Null Count  Dtype         \n",
      "---  ------                    --------------  -----         \n",
      " 0   Age                       18207 non-null  int64         \n",
      " 1   Overall                   18207 non-null  int64         \n",
      " 2   Potential                 18207 non-null  int64         \n",
      " 3   Value                     18207 non-null  float64       \n",
      " 4   Wage                      18207 non-null  float64       \n",
      " 5   Preferred Foot            18207 non-null  object        \n",
      " 6   International Reputation  18159 non-null  float64       \n",
      " 7   Weak Foot                 18159 non-null  float64       \n",
      " 8   Skill Moves               18159 non-null  float64       \n",
      " 9   Work Rate                 18207 non-null  object        \n",
      " 10  Body Type                 18207 non-null  object        \n",
      " 11  Position                  18207 non-null  object        \n",
      " 12  Joined                    18207 non-null  int32         \n",
      " 13  Contract Valid Until      18207 non-null  datetime64[ns]\n",
      " 14  Height                    18159 non-null  float64       \n",
      " 15  Weight                    18159 non-null  float64       \n",
      " 16  Crossing                  18159 non-null  float64       \n",
      " 17  Finishing                 18159 non-null  float64       \n",
      " 18  HeadingAccuracy           18159 non-null  float64       \n",
      " 19  ShortPassing              18159 non-null  float64       \n",
      " 20  Volleys                   18159 non-null  float64       \n",
      " 21  Dribbling                 18159 non-null  float64       \n",
      " 22  Curve                     18159 non-null  float64       \n",
      " 23  FKAccuracy                18159 non-null  float64       \n",
      " 24  LongPassing               18159 non-null  float64       \n",
      " 25  BallControl               18159 non-null  float64       \n",
      " 26  Acceleration              18159 non-null  float64       \n",
      " 27  SprintSpeed               18159 non-null  float64       \n",
      " 28  Agility                   18159 non-null  float64       \n",
      " 29  Reactions                 18159 non-null  float64       \n",
      " 30  Balance                   18159 non-null  float64       \n",
      " 31  ShotPower                 18159 non-null  float64       \n",
      " 32  Jumping                   18159 non-null  float64       \n",
      " 33  Stamina                   18159 non-null  float64       \n",
      " 34  Strength                  18159 non-null  float64       \n",
      " 35  LongShots                 18159 non-null  float64       \n",
      " 36  Aggression                18159 non-null  float64       \n",
      " 37  Interceptions             18159 non-null  float64       \n",
      " 38  Positioning               18159 non-null  float64       \n",
      " 39  Vision                    18159 non-null  float64       \n",
      " 40  Penalties                 18159 non-null  float64       \n",
      " 41  Composure                 18159 non-null  float64       \n",
      " 42  Marking                   18159 non-null  float64       \n",
      " 43  StandingTackle            18159 non-null  float64       \n",
      " 44  SlidingTackle             18159 non-null  float64       \n",
      " 45  GKDiving                  18159 non-null  float64       \n",
      " 46  GKHandling                18159 non-null  float64       \n",
      " 47  GKKicking                 18159 non-null  float64       \n",
      " 48  GKPositioning             18159 non-null  float64       \n",
      " 49  GKReflexes                18159 non-null  float64       \n",
      " 50  Release Clause            18207 non-null  float64       \n",
      "dtypes: datetime64[ns](1), float64(42), int32(1), int64(3), object(4)\n",
      "memory usage: 7.2+ MB\n"
     ]
    }
   ],
   "source": [
    "fifa.info()"
   ]
  },
  {
   "cell_type": "code",
   "execution_count": 52,
   "metadata": {},
   "outputs": [
    {
     "data": {
      "text/plain": [
       "2.9472988600693872"
      ]
     },
     "execution_count": 52,
     "metadata": {},
     "output_type": "execute_result"
    }
   ],
   "source": [
    "fifa['Weak Foot'].mean()"
   ]
  },
  {
   "cell_type": "code",
   "execution_count": 53,
   "metadata": {},
   "outputs": [],
   "source": [
    "fifa['International Reputation'].fillna(fifa['International Reputation'].mode()[0],inplace=True)"
   ]
  },
  {
   "cell_type": "code",
   "execution_count": 54,
   "metadata": {},
   "outputs": [],
   "source": [
    "fifa['Weak Foot'].fillna(fifa['Weak Foot'].mode()[0],inplace=True)"
   ]
  },
  {
   "cell_type": "code",
   "execution_count": 55,
   "metadata": {},
   "outputs": [],
   "source": [
    "fifa['Skill Moves'].fillna(fifa['Skill Moves'].mode()[0],inplace=True)"
   ]
  },
  {
   "cell_type": "code",
   "execution_count": 56,
   "metadata": {},
   "outputs": [],
   "source": [
    "fifa['Height'].fillna(fifa['Height'].mode()[0],inplace=True)"
   ]
  },
  {
   "cell_type": "code",
   "execution_count": 57,
   "metadata": {},
   "outputs": [],
   "source": [
    "fifa['Weight'].fillna(fifa['Weight'].mode()[0],inplace=True)"
   ]
  },
  {
   "cell_type": "code",
   "execution_count": 58,
   "metadata": {},
   "outputs": [],
   "source": [
    "fifa['Crossing'].fillna(fifa['Crossing'].mode()[0],inplace=True)"
   ]
  },
  {
   "cell_type": "code",
   "execution_count": 59,
   "metadata": {},
   "outputs": [],
   "source": [
    "fifa['Finishing'].fillna(fifa['Finishing'].mode()[0],inplace=True)"
   ]
  },
  {
   "cell_type": "code",
   "execution_count": 60,
   "metadata": {},
   "outputs": [],
   "source": [
    "fifa['Crossing'].fillna(fifa['Crossing'].mode()[0],inplace=True)"
   ]
  },
  {
   "cell_type": "code",
   "execution_count": 61,
   "metadata": {},
   "outputs": [],
   "source": [
    "fifa['HeadingAccuracy'].fillna(fifa['HeadingAccuracy'].mode()[0],inplace=True)"
   ]
  },
  {
   "cell_type": "code",
   "execution_count": 62,
   "metadata": {},
   "outputs": [],
   "source": [
    "fifa['ShortPassing'].fillna(fifa['ShortPassing'].mode()[0],inplace=True)"
   ]
  },
  {
   "cell_type": "code",
   "execution_count": 63,
   "metadata": {},
   "outputs": [],
   "source": [
    "fifa['Volleys'].fillna(fifa['Volleys'].mode()[0],inplace=True)"
   ]
  },
  {
   "cell_type": "code",
   "execution_count": 64,
   "metadata": {},
   "outputs": [],
   "source": [
    "fifa['Dribbling'].fillna(fifa['Dribbling'].mode()[0],inplace=True)"
   ]
  },
  {
   "cell_type": "code",
   "execution_count": 65,
   "metadata": {},
   "outputs": [],
   "source": [
    "fifa['Curve'].fillna(fifa['Curve'].mode()[0],inplace=True)"
   ]
  },
  {
   "cell_type": "code",
   "execution_count": 66,
   "metadata": {},
   "outputs": [],
   "source": [
    "fifa['FKAccuracy'].fillna(fifa['FKAccuracy'].mode()[0],inplace=True)"
   ]
  },
  {
   "cell_type": "code",
   "execution_count": 67,
   "metadata": {},
   "outputs": [],
   "source": [
    "fifa['LongPassing'].fillna(fifa['LongPassing'].mode()[0],inplace=True)"
   ]
  },
  {
   "cell_type": "code",
   "execution_count": 68,
   "metadata": {},
   "outputs": [],
   "source": [
    "fifa['BallControl'].fillna(fifa['BallControl'].mode()[0],inplace=True)"
   ]
  },
  {
   "cell_type": "code",
   "execution_count": 69,
   "metadata": {},
   "outputs": [],
   "source": [
    "fifa['Acceleration'].fillna(fifa['Acceleration'].mode()[0],inplace=True)"
   ]
  },
  {
   "cell_type": "code",
   "execution_count": 70,
   "metadata": {},
   "outputs": [],
   "source": [
    "fifa['SprintSpeed'].fillna(fifa['SprintSpeed'].mode()[0],inplace=True)"
   ]
  },
  {
   "cell_type": "code",
   "execution_count": 71,
   "metadata": {},
   "outputs": [],
   "source": [
    "fifa['Agility'].fillna(fifa['Agility'].mode()[0],inplace=True)"
   ]
  },
  {
   "cell_type": "code",
   "execution_count": 72,
   "metadata": {},
   "outputs": [],
   "source": [
    "fifa['Reactions'].fillna(fifa['Reactions'].mode()[0],inplace=True)"
   ]
  },
  {
   "cell_type": "code",
   "execution_count": 73,
   "metadata": {},
   "outputs": [],
   "source": [
    "fifa['Balance'].fillna(fifa['Balance'].mode()[0],inplace=True)"
   ]
  },
  {
   "cell_type": "code",
   "execution_count": 74,
   "metadata": {},
   "outputs": [],
   "source": [
    "fifa['ShotPower'].fillna(fifa['ShotPower'].mode()[0],inplace=True)"
   ]
  },
  {
   "cell_type": "code",
   "execution_count": 75,
   "metadata": {},
   "outputs": [],
   "source": [
    "fifa['Jumping'].fillna(fifa['Jumping'].mode()[0],inplace=True)\n",
    "fifa['Stamina'].fillna(fifa['Stamina'].mode()[0],inplace=True)\n",
    "fifa['Strength'].fillna(fifa['Strength'].mode()[0],inplace=True)\n",
    "fifa['LongShots'].fillna(fifa['LongShots'].mode()[0],inplace=True)\n",
    "fifa['Aggression'].fillna(fifa['Aggression'].mode()[0],inplace=True)\n",
    "fifa['Positioning'].fillna(fifa['Positioning'].mode()[0],inplace=True)\n",
    "fifa['Vision'].fillna(fifa['Vision'].mode()[0],inplace=True)"
   ]
  },
  {
   "cell_type": "code",
   "execution_count": 76,
   "metadata": {},
   "outputs": [],
   "source": [
    "fifa['Penalties'].fillna(fifa['Penalties'].mode()[0],inplace=True)\n",
    "fifa['Composure'].fillna(fifa['Composure'].mode()[0],inplace=True)\n",
    "fifa['Marking'].fillna(fifa['Marking'].mode()[0],inplace=True)\n",
    "fifa['StandingTackle'].fillna(fifa['StandingTackle'].mode()[0],inplace=True)\n",
    "fifa['SlidingTackle'].fillna(fifa['SlidingTackle'].mode()[0],inplace=True)\n",
    "fifa['GKDiving'].fillna(fifa['GKDiving'].mode()[0],inplace=True)\n",
    "fifa['GKHandling'].fillna(fifa['GKHandling'].mode()[0],inplace=True)\n",
    "fifa['GKKicking'].fillna(fifa['GKKicking'].mode()[0],inplace=True)\n",
    "fifa['GKPositioning'].fillna(fifa['GKPositioning'].mode()[0],inplace=True)\n",
    "fifa['GKReflexes'].fillna(fifa['GKReflexes'].mode()[0],inplace=True)"
   ]
  },
  {
   "cell_type": "code",
   "execution_count": 77,
   "metadata": {},
   "outputs": [],
   "source": [
    "fifa['Interceptions'].fillna(fifa['Interceptions'].mode()[0],inplace=True)"
   ]
  },
  {
   "cell_type": "code",
   "execution_count": 78,
   "metadata": {},
   "outputs": [
    {
     "data": {
      "text/plain": [
       "Age                         0\n",
       "Overall                     0\n",
       "Potential                   0\n",
       "Value                       0\n",
       "Wage                        0\n",
       "Preferred Foot              0\n",
       "International Reputation    0\n",
       "Weak Foot                   0\n",
       "Skill Moves                 0\n",
       "Work Rate                   0\n",
       "Body Type                   0\n",
       "Position                    0\n",
       "Joined                      0\n",
       "Contract Valid Until        0\n",
       "Height                      0\n",
       "Weight                      0\n",
       "Crossing                    0\n",
       "Finishing                   0\n",
       "HeadingAccuracy             0\n",
       "ShortPassing                0\n",
       "Volleys                     0\n",
       "Dribbling                   0\n",
       "Curve                       0\n",
       "FKAccuracy                  0\n",
       "LongPassing                 0\n",
       "BallControl                 0\n",
       "Acceleration                0\n",
       "SprintSpeed                 0\n",
       "Agility                     0\n",
       "Reactions                   0\n",
       "Balance                     0\n",
       "ShotPower                   0\n",
       "Jumping                     0\n",
       "Stamina                     0\n",
       "Strength                    0\n",
       "LongShots                   0\n",
       "Aggression                  0\n",
       "Interceptions               0\n",
       "Positioning                 0\n",
       "Vision                      0\n",
       "Penalties                   0\n",
       "Composure                   0\n",
       "Marking                     0\n",
       "StandingTackle              0\n",
       "SlidingTackle               0\n",
       "GKDiving                    0\n",
       "GKHandling                  0\n",
       "GKKicking                   0\n",
       "GKPositioning               0\n",
       "GKReflexes                  0\n",
       "Release Clause              0\n",
       "dtype: int64"
      ]
     },
     "execution_count": 78,
     "metadata": {},
     "output_type": "execute_result"
    }
   ],
   "source": [
    "fifa.isnull().sum()"
   ]
  },
  {
   "cell_type": "code",
   "execution_count": 79,
   "metadata": {},
   "outputs": [
    {
     "data": {
      "image/png": "[encoded data removed]",
      "text/plain": [
       "<Figure size 432x288 with 1 Axes>"
      ]
     },
     "metadata": {
      "needs_background": "light"
     },
     "output_type": "display_data"
    }
   ],
   "source": [
    "sns.distplot(fifa['Overall'])\n",
    "plt.show()"
   ]
  },
  {
   "cell_type": "code",
   "execution_count": 80,
   "metadata": {},
   "outputs": [
    {
     "data": {
      "image/png": "[encoded data removed]",
      "text/plain": [
       "<Figure size 1260x1260 with 56 Axes>"
      ]
     },
     "metadata": {
      "needs_background": "light"
     },
     "output_type": "display_data"
    }
   ],
   "source": [
    "sns.pairplot(fifa[['Overall','Value','Wage','International Reputation','Height','Weight','Release Clause']])\n",
    "plt.show()"
   ]
  },
  {
   "cell_type": "markdown",
   "metadata": {},
   "source": [
    "3.\tGenerate a table containing the top 20 players ranked by Overall score and whose contract expires in 2020."
   ]
  },
  {
   "cell_type": "code",
   "execution_count": 81,
   "metadata": {},
   "outputs": [
    {
     "data": {
      "text/plain": [
       "ID\n",
       "193080    91\n",
       "183277    91\n",
       "177003    91\n",
       "155862    91\n",
       "168542    90\n",
       "179813    89\n",
       "138956    89\n",
       "190460    88\n",
       "164240    88\n",
       "193041    87\n",
       "189332    87\n",
       "175943    87\n",
       "171877    87\n",
       "177509    86\n",
       "135507    86\n",
       "191043    86\n",
       "184087    86\n",
       "216594    85\n",
       "189513    85\n",
       "180930    85\n",
       "Name: Overall, dtype: int64"
      ]
     },
     "execution_count": 81,
     "metadata": {},
     "output_type": "execute_result"
    }
   ],
   "source": [
    "fifa[pd.DatetimeIndex(fifa['Contract Valid Until']).year==2020]['Overall'].sort_values(ascending=False).head(20)"
   ]
  },
  {
   "cell_type": "code",
   "execution_count": 82,
   "metadata": {},
   "outputs": [
    {
     "data": {
      "text/plain": [
       "Int64Index([193080, 183277, 177003, 155862, 168542, 179813, 138956, 190460,\n",
       "            164240, 193041, 189332, 175943, 171877, 177509, 135507, 191043,\n",
       "            184087, 216594, 189513, 180930],\n",
       "           dtype='int64', name='ID')"
      ]
     },
     "execution_count": 82,
     "metadata": {},
     "output_type": "execute_result"
    }
   ],
   "source": [
    "fifa[pd.DatetimeIndex(fifa['Contract Valid Until']).year==2020]['Overall'].sort_values(ascending=False).head(20).index"
   ]
  },
  {
   "cell_type": "code",
   "execution_count": 83,
   "metadata": {},
   "outputs": [],
   "source": [
    "fifa_20=fifa.loc[[193080, 183277, 177003, 155862, 168542, 179813, 138956, 190460,\n",
    "            164240, 193041, 189332, 175943, 171877, 177509, 135507, 191043,\n",
    "            184087, 216594, 189513, 180930]]"
   ]
  },
  {
   "cell_type": "code",
   "execution_count": 84,
   "metadata": {},
   "outputs": [
    {
     "data": {
      "text/html": [
       "<div>\n",
       "<style scoped>\n",
       "    .dataframe tbody tr th:only-of-type {\n",
       "        vertical-align: middle;\n",
       "    }\n",
       "\n",
       "    .dataframe tbody tr th {\n",
       "        vertical-align: top;\n",
       "    }\n",
       "\n",
       "    .dataframe thead th {\n",
       "        text-align: right;\n",
       "    }\n",
       "</style>\n",
       "<table border=\"1\" class=\"dataframe\">\n",
       "  <thead>\n",
       "    <tr style=\"text-align: right;\">\n",
       "      <th></th>\n",
       "      <th>Age</th>\n",
       "      <th>Overall</th>\n",
       "      <th>Potential</th>\n",
       "      <th>Value</th>\n",
       "      <th>Wage</th>\n",
       "      <th>Preferred Foot</th>\n",
       "      <th>International Reputation</th>\n",
       "      <th>Weak Foot</th>\n",
       "      <th>Skill Moves</th>\n",
       "      <th>Work Rate</th>\n",
       "      <th>...</th>\n",
       "      <th>Composure</th>\n",
       "      <th>Marking</th>\n",
       "      <th>StandingTackle</th>\n",
       "      <th>SlidingTackle</th>\n",
       "      <th>GKDiving</th>\n",
       "      <th>GKHandling</th>\n",
       "      <th>GKKicking</th>\n",
       "      <th>GKPositioning</th>\n",
       "      <th>GKReflexes</th>\n",
       "      <th>Release Clause</th>\n",
       "    </tr>\n",
       "    <tr>\n",
       "      <th>ID</th>\n",
       "      <th></th>\n",
       "      <th></th>\n",
       "      <th></th>\n",
       "      <th></th>\n",
       "      <th></th>\n",
       "      <th></th>\n",
       "      <th></th>\n",
       "      <th></th>\n",
       "      <th></th>\n",
       "      <th></th>\n",
       "      <th></th>\n",
       "      <th></th>\n",
       "      <th></th>\n",
       "      <th></th>\n",
       "      <th></th>\n",
       "      <th></th>\n",
       "      <th></th>\n",
       "      <th></th>\n",
       "      <th></th>\n",
       "      <th></th>\n",
       "      <th></th>\n",
       "    </tr>\n",
       "  </thead>\n",
       "  <tbody>\n",
       "    <tr>\n",
       "      <th>193080</th>\n",
       "      <td>27</td>\n",
       "      <td>91</td>\n",
       "      <td>93</td>\n",
       "      <td>72000000.0</td>\n",
       "      <td>260000.0</td>\n",
       "      <td>Right</td>\n",
       "      <td>4.0</td>\n",
       "      <td>3.0</td>\n",
       "      <td>1.0</td>\n",
       "      <td>Medium/ Medium</td>\n",
       "      <td>...</td>\n",
       "      <td>68.0</td>\n",
       "      <td>15.0</td>\n",
       "      <td>21.0</td>\n",
       "      <td>13.0</td>\n",
       "      <td>90.0</td>\n",
       "      <td>85.0</td>\n",
       "      <td>87.0</td>\n",
       "      <td>88.0</td>\n",
       "      <td>94.0</td>\n",
       "      <td>138600000.0</td>\n",
       "    </tr>\n",
       "    <tr>\n",
       "      <th>183277</th>\n",
       "      <td>27</td>\n",
       "      <td>91</td>\n",
       "      <td>91</td>\n",
       "      <td>93000000.0</td>\n",
       "      <td>340000.0</td>\n",
       "      <td>Right</td>\n",
       "      <td>4.0</td>\n",
       "      <td>4.0</td>\n",
       "      <td>4.0</td>\n",
       "      <td>High/ Medium</td>\n",
       "      <td>...</td>\n",
       "      <td>91.0</td>\n",
       "      <td>34.0</td>\n",
       "      <td>27.0</td>\n",
       "      <td>22.0</td>\n",
       "      <td>11.0</td>\n",
       "      <td>12.0</td>\n",
       "      <td>6.0</td>\n",
       "      <td>8.0</td>\n",
       "      <td>8.0</td>\n",
       "      <td>172100000.0</td>\n",
       "    </tr>\n",
       "    <tr>\n",
       "      <th>177003</th>\n",
       "      <td>32</td>\n",
       "      <td>91</td>\n",
       "      <td>91</td>\n",
       "      <td>67000000.0</td>\n",
       "      <td>420000.0</td>\n",
       "      <td>Right</td>\n",
       "      <td>4.0</td>\n",
       "      <td>4.0</td>\n",
       "      <td>4.0</td>\n",
       "      <td>High/ High</td>\n",
       "      <td>...</td>\n",
       "      <td>84.0</td>\n",
       "      <td>60.0</td>\n",
       "      <td>76.0</td>\n",
       "      <td>73.0</td>\n",
       "      <td>13.0</td>\n",
       "      <td>9.0</td>\n",
       "      <td>7.0</td>\n",
       "      <td>14.0</td>\n",
       "      <td>9.0</td>\n",
       "      <td>137400000.0</td>\n",
       "    </tr>\n",
       "    <tr>\n",
       "      <th>155862</th>\n",
       "      <td>32</td>\n",
       "      <td>91</td>\n",
       "      <td>91</td>\n",
       "      <td>51000000.0</td>\n",
       "      <td>380000.0</td>\n",
       "      <td>Right</td>\n",
       "      <td>4.0</td>\n",
       "      <td>3.0</td>\n",
       "      <td>3.0</td>\n",
       "      <td>High/ Medium</td>\n",
       "      <td>...</td>\n",
       "      <td>82.0</td>\n",
       "      <td>87.0</td>\n",
       "      <td>92.0</td>\n",
       "      <td>91.0</td>\n",
       "      <td>11.0</td>\n",
       "      <td>8.0</td>\n",
       "      <td>9.0</td>\n",
       "      <td>7.0</td>\n",
       "      <td>11.0</td>\n",
       "      <td>104600000.0</td>\n",
       "    </tr>\n",
       "    <tr>\n",
       "      <th>168542</th>\n",
       "      <td>32</td>\n",
       "      <td>90</td>\n",
       "      <td>90</td>\n",
       "      <td>60000000.0</td>\n",
       "      <td>285000.0</td>\n",
       "      <td>Left</td>\n",
       "      <td>4.0</td>\n",
       "      <td>2.0</td>\n",
       "      <td>4.0</td>\n",
       "      <td>High/ Medium</td>\n",
       "      <td>...</td>\n",
       "      <td>93.0</td>\n",
       "      <td>59.0</td>\n",
       "      <td>53.0</td>\n",
       "      <td>29.0</td>\n",
       "      <td>6.0</td>\n",
       "      <td>15.0</td>\n",
       "      <td>7.0</td>\n",
       "      <td>6.0</td>\n",
       "      <td>12.0</td>\n",
       "      <td>111000000.0</td>\n",
       "    </tr>\n",
       "    <tr>\n",
       "      <th>179813</th>\n",
       "      <td>31</td>\n",
       "      <td>89</td>\n",
       "      <td>89</td>\n",
       "      <td>60000000.0</td>\n",
       "      <td>200000.0</td>\n",
       "      <td>Right</td>\n",
       "      <td>4.0</td>\n",
       "      <td>4.0</td>\n",
       "      <td>3.0</td>\n",
       "      <td>High/ High</td>\n",
       "      <td>...</td>\n",
       "      <td>82.0</td>\n",
       "      <td>52.0</td>\n",
       "      <td>45.0</td>\n",
       "      <td>39.0</td>\n",
       "      <td>12.0</td>\n",
       "      <td>5.0</td>\n",
       "      <td>13.0</td>\n",
       "      <td>13.0</td>\n",
       "      <td>10.0</td>\n",
       "      <td>111000000.0</td>\n",
       "    </tr>\n",
       "    <tr>\n",
       "      <th>138956</th>\n",
       "      <td>33</td>\n",
       "      <td>89</td>\n",
       "      <td>89</td>\n",
       "      <td>27000000.0</td>\n",
       "      <td>215000.0</td>\n",
       "      <td>Left</td>\n",
       "      <td>4.0</td>\n",
       "      <td>3.0</td>\n",
       "      <td>2.0</td>\n",
       "      <td>Medium/ High</td>\n",
       "      <td>...</td>\n",
       "      <td>84.0</td>\n",
       "      <td>93.0</td>\n",
       "      <td>93.0</td>\n",
       "      <td>90.0</td>\n",
       "      <td>3.0</td>\n",
       "      <td>3.0</td>\n",
       "      <td>2.0</td>\n",
       "      <td>4.0</td>\n",
       "      <td>3.0</td>\n",
       "      <td>44600000.0</td>\n",
       "    </tr>\n",
       "    <tr>\n",
       "      <th>190460</th>\n",
       "      <td>26</td>\n",
       "      <td>88</td>\n",
       "      <td>91</td>\n",
       "      <td>73500000.0</td>\n",
       "      <td>205000.0</td>\n",
       "      <td>Right</td>\n",
       "      <td>3.0</td>\n",
       "      <td>5.0</td>\n",
       "      <td>4.0</td>\n",
       "      <td>High/ Medium</td>\n",
       "      <td>...</td>\n",
       "      <td>88.0</td>\n",
       "      <td>59.0</td>\n",
       "      <td>57.0</td>\n",
       "      <td>22.0</td>\n",
       "      <td>9.0</td>\n",
       "      <td>14.0</td>\n",
       "      <td>7.0</td>\n",
       "      <td>7.0</td>\n",
       "      <td>6.0</td>\n",
       "      <td>141500000.0</td>\n",
       "    </tr>\n",
       "    <tr>\n",
       "      <th>164240</th>\n",
       "      <td>33</td>\n",
       "      <td>88</td>\n",
       "      <td>88</td>\n",
       "      <td>24000000.0</td>\n",
       "      <td>165000.0</td>\n",
       "      <td>Right</td>\n",
       "      <td>4.0</td>\n",
       "      <td>3.0</td>\n",
       "      <td>2.0</td>\n",
       "      <td>Medium/ High</td>\n",
       "      <td>...</td>\n",
       "      <td>81.0</td>\n",
       "      <td>88.0</td>\n",
       "      <td>89.0</td>\n",
       "      <td>85.0</td>\n",
       "      <td>9.0</td>\n",
       "      <td>12.0</td>\n",
       "      <td>5.0</td>\n",
       "      <td>9.0</td>\n",
       "      <td>10.0</td>\n",
       "      <td>44400000.0</td>\n",
       "    </tr>\n",
       "    <tr>\n",
       "      <th>193041</th>\n",
       "      <td>31</td>\n",
       "      <td>87</td>\n",
       "      <td>87</td>\n",
       "      <td>30500000.0</td>\n",
       "      <td>195000.0</td>\n",
       "      <td>Right</td>\n",
       "      <td>3.0</td>\n",
       "      <td>3.0</td>\n",
       "      <td>1.0</td>\n",
       "      <td>Medium/ Medium</td>\n",
       "      <td>...</td>\n",
       "      <td>67.0</td>\n",
       "      <td>28.0</td>\n",
       "      <td>14.0</td>\n",
       "      <td>14.0</td>\n",
       "      <td>90.0</td>\n",
       "      <td>81.0</td>\n",
       "      <td>75.0</td>\n",
       "      <td>82.0</td>\n",
       "      <td>90.0</td>\n",
       "      <td>62500000.0</td>\n",
       "    </tr>\n",
       "    <tr>\n",
       "      <th>189332</th>\n",
       "      <td>29</td>\n",
       "      <td>87</td>\n",
       "      <td>87</td>\n",
       "      <td>38000000.0</td>\n",
       "      <td>250000.0</td>\n",
       "      <td>Left</td>\n",
       "      <td>3.0</td>\n",
       "      <td>3.0</td>\n",
       "      <td>3.0</td>\n",
       "      <td>High/ Medium</td>\n",
       "      <td>...</td>\n",
       "      <td>79.0</td>\n",
       "      <td>72.0</td>\n",
       "      <td>84.0</td>\n",
       "      <td>85.0</td>\n",
       "      <td>13.0</td>\n",
       "      <td>15.0</td>\n",
       "      <td>13.0</td>\n",
       "      <td>6.0</td>\n",
       "      <td>13.0</td>\n",
       "      <td>77900000.0</td>\n",
       "    </tr>\n",
       "    <tr>\n",
       "      <th>175943</th>\n",
       "      <td>31</td>\n",
       "      <td>87</td>\n",
       "      <td>87</td>\n",
       "      <td>45000000.0</td>\n",
       "      <td>135000.0</td>\n",
       "      <td>Right</td>\n",
       "      <td>3.0</td>\n",
       "      <td>4.0</td>\n",
       "      <td>4.0</td>\n",
       "      <td>High/ Low</td>\n",
       "      <td>...</td>\n",
       "      <td>81.0</td>\n",
       "      <td>25.0</td>\n",
       "      <td>40.0</td>\n",
       "      <td>40.0</td>\n",
       "      <td>7.0</td>\n",
       "      <td>10.0</td>\n",
       "      <td>8.0</td>\n",
       "      <td>10.0</td>\n",
       "      <td>4.0</td>\n",
       "      <td>76500000.0</td>\n",
       "    </tr>\n",
       "    <tr>\n",
       "      <th>171877</th>\n",
       "      <td>30</td>\n",
       "      <td>87</td>\n",
       "      <td>87</td>\n",
       "      <td>46500000.0</td>\n",
       "      <td>125000.0</td>\n",
       "      <td>Right</td>\n",
       "      <td>3.0</td>\n",
       "      <td>5.0</td>\n",
       "      <td>3.0</td>\n",
       "      <td>High/ Medium</td>\n",
       "      <td>...</td>\n",
       "      <td>84.0</td>\n",
       "      <td>75.0</td>\n",
       "      <td>73.0</td>\n",
       "      <td>62.0</td>\n",
       "      <td>8.0</td>\n",
       "      <td>6.0</td>\n",
       "      <td>4.0</td>\n",
       "      <td>14.0</td>\n",
       "      <td>14.0</td>\n",
       "      <td>79100000.0</td>\n",
       "    </tr>\n",
       "    <tr>\n",
       "      <th>177509</th>\n",
       "      <td>31</td>\n",
       "      <td>86</td>\n",
       "      <td>86</td>\n",
       "      <td>30000000.0</td>\n",
       "      <td>160000.0</td>\n",
       "      <td>Right</td>\n",
       "      <td>3.0</td>\n",
       "      <td>3.0</td>\n",
       "      <td>2.0</td>\n",
       "      <td>Medium/ High</td>\n",
       "      <td>...</td>\n",
       "      <td>82.0</td>\n",
       "      <td>89.0</td>\n",
       "      <td>87.0</td>\n",
       "      <td>85.0</td>\n",
       "      <td>7.0</td>\n",
       "      <td>4.0</td>\n",
       "      <td>8.0</td>\n",
       "      <td>7.0</td>\n",
       "      <td>11.0</td>\n",
       "      <td>49500000.0</td>\n",
       "    </tr>\n",
       "    <tr>\n",
       "      <th>135507</th>\n",
       "      <td>33</td>\n",
       "      <td>86</td>\n",
       "      <td>86</td>\n",
       "      <td>18000000.0</td>\n",
       "      <td>185000.0</td>\n",
       "      <td>Right</td>\n",
       "      <td>3.0</td>\n",
       "      <td>4.0</td>\n",
       "      <td>3.0</td>\n",
       "      <td>Medium/ High</td>\n",
       "      <td>...</td>\n",
       "      <td>79.0</td>\n",
       "      <td>85.0</td>\n",
       "      <td>85.0</td>\n",
       "      <td>80.0</td>\n",
       "      <td>12.0</td>\n",
       "      <td>11.0</td>\n",
       "      <td>5.0</td>\n",
       "      <td>13.0</td>\n",
       "      <td>7.0</td>\n",
       "      <td>33300000.0</td>\n",
       "    </tr>\n",
       "    <tr>\n",
       "      <th>191043</th>\n",
       "      <td>27</td>\n",
       "      <td>86</td>\n",
       "      <td>86</td>\n",
       "      <td>36500000.0</td>\n",
       "      <td>160000.0</td>\n",
       "      <td>Left</td>\n",
       "      <td>3.0</td>\n",
       "      <td>3.0</td>\n",
       "      <td>3.0</td>\n",
       "      <td>High/ High</td>\n",
       "      <td>...</td>\n",
       "      <td>82.0</td>\n",
       "      <td>81.0</td>\n",
       "      <td>84.0</td>\n",
       "      <td>84.0</td>\n",
       "      <td>7.0</td>\n",
       "      <td>7.0</td>\n",
       "      <td>9.0</td>\n",
       "      <td>12.0</td>\n",
       "      <td>5.0</td>\n",
       "      <td>60200000.0</td>\n",
       "    </tr>\n",
       "    <tr>\n",
       "      <th>184087</th>\n",
       "      <td>29</td>\n",
       "      <td>86</td>\n",
       "      <td>87</td>\n",
       "      <td>39000000.0</td>\n",
       "      <td>150000.0</td>\n",
       "      <td>Right</td>\n",
       "      <td>3.0</td>\n",
       "      <td>3.0</td>\n",
       "      <td>2.0</td>\n",
       "      <td>Medium/ Medium</td>\n",
       "      <td>...</td>\n",
       "      <td>81.0</td>\n",
       "      <td>90.0</td>\n",
       "      <td>91.0</td>\n",
       "      <td>86.0</td>\n",
       "      <td>16.0</td>\n",
       "      <td>6.0</td>\n",
       "      <td>14.0</td>\n",
       "      <td>16.0</td>\n",
       "      <td>14.0</td>\n",
       "      <td>75100000.0</td>\n",
       "    </tr>\n",
       "    <tr>\n",
       "      <th>216594</th>\n",
       "      <td>24</td>\n",
       "      <td>85</td>\n",
       "      <td>89</td>\n",
       "      <td>50000000.0</td>\n",
       "      <td>92000.0</td>\n",
       "      <td>Left</td>\n",
       "      <td>3.0</td>\n",
       "      <td>3.0</td>\n",
       "      <td>4.0</td>\n",
       "      <td>High/ Medium</td>\n",
       "      <td>...</td>\n",
       "      <td>89.0</td>\n",
       "      <td>31.0</td>\n",
       "      <td>37.0</td>\n",
       "      <td>25.0</td>\n",
       "      <td>15.0</td>\n",
       "      <td>9.0</td>\n",
       "      <td>8.0</td>\n",
       "      <td>14.0</td>\n",
       "      <td>15.0</td>\n",
       "      <td>98800000.0</td>\n",
       "    </tr>\n",
       "    <tr>\n",
       "      <th>189513</th>\n",
       "      <td>29</td>\n",
       "      <td>85</td>\n",
       "      <td>85</td>\n",
       "      <td>37000000.0</td>\n",
       "      <td>66000.0</td>\n",
       "      <td>Right</td>\n",
       "      <td>2.0</td>\n",
       "      <td>4.0</td>\n",
       "      <td>3.0</td>\n",
       "      <td>Medium/ Low</td>\n",
       "      <td>...</td>\n",
       "      <td>78.0</td>\n",
       "      <td>69.0</td>\n",
       "      <td>68.0</td>\n",
       "      <td>60.0</td>\n",
       "      <td>5.0</td>\n",
       "      <td>9.0</td>\n",
       "      <td>12.0</td>\n",
       "      <td>14.0</td>\n",
       "      <td>8.0</td>\n",
       "      <td>77700000.0</td>\n",
       "    </tr>\n",
       "    <tr>\n",
       "      <th>180930</th>\n",
       "      <td>32</td>\n",
       "      <td>85</td>\n",
       "      <td>85</td>\n",
       "      <td>30500000.0</td>\n",
       "      <td>115000.0</td>\n",
       "      <td>Right</td>\n",
       "      <td>3.0</td>\n",
       "      <td>5.0</td>\n",
       "      <td>2.0</td>\n",
       "      <td>Medium/ Medium</td>\n",
       "      <td>...</td>\n",
       "      <td>83.0</td>\n",
       "      <td>58.0</td>\n",
       "      <td>28.0</td>\n",
       "      <td>16.0</td>\n",
       "      <td>9.0</td>\n",
       "      <td>11.0</td>\n",
       "      <td>13.0</td>\n",
       "      <td>15.0</td>\n",
       "      <td>15.0</td>\n",
       "      <td>51900000.0</td>\n",
       "    </tr>\n",
       "  </tbody>\n",
       "</table>\n",
       "<p>20 rows × 51 columns</p>\n",
       "</div>"
      ],
      "text/plain": [
       "        Age  Overall  Potential       Value      Wage Preferred Foot  \\\n",
       "ID                                                                     \n",
       "193080   27       91         93  72000000.0  260000.0          Right   \n",
       "183277   27       91         91  93000000.0  340000.0          Right   \n",
       "177003   32       91         91  67000000.0  420000.0          Right   \n",
       "155862   32       91         91  51000000.0  380000.0          Right   \n",
       "168542   32       90         90  60000000.0  285000.0           Left   \n",
       "179813   31       89         89  60000000.0  200000.0          Right   \n",
       "138956   33       89         89  27000000.0  215000.0           Left   \n",
       "190460   26       88         91  73500000.0  205000.0          Right   \n",
       "164240   33       88         88  24000000.0  165000.0          Right   \n",
       "193041   31       87         87  30500000.0  195000.0          Right   \n",
       "189332   29       87         87  38000000.0  250000.0           Left   \n",
       "175943   31       87         87  45000000.0  135000.0          Right   \n",
       "171877   30       87         87  46500000.0  125000.0          Right   \n",
       "177509   31       86         86  30000000.0  160000.0          Right   \n",
       "135507   33       86         86  18000000.0  185000.0          Right   \n",
       "191043   27       86         86  36500000.0  160000.0           Left   \n",
       "184087   29       86         87  39000000.0  150000.0          Right   \n",
       "216594   24       85         89  50000000.0   92000.0           Left   \n",
       "189513   29       85         85  37000000.0   66000.0          Right   \n",
       "180930   32       85         85  30500000.0  115000.0          Right   \n",
       "\n",
       "        International Reputation  Weak Foot  Skill Moves       Work Rate  ...  \\\n",
       "ID                                                                        ...   \n",
       "193080                       4.0        3.0          1.0  Medium/ Medium  ...   \n",
       "183277                       4.0        4.0          4.0    High/ Medium  ...   \n",
       "177003                       4.0        4.0          4.0      High/ High  ...   \n",
       "155862                       4.0        3.0          3.0    High/ Medium  ...   \n",
       "168542                       4.0        2.0          4.0    High/ Medium  ...   \n",
       "179813                       4.0        4.0          3.0      High/ High  ...   \n",
       "138956                       4.0        3.0          2.0    Medium/ High  ...   \n",
       "190460                       3.0        5.0          4.0    High/ Medium  ...   \n",
       "164240                       4.0        3.0          2.0    Medium/ High  ...   \n",
       "193041                       3.0        3.0          1.0  Medium/ Medium  ...   \n",
       "189332                       3.0        3.0          3.0    High/ Medium  ...   \n",
       "175943                       3.0        4.0          4.0       High/ Low  ...   \n",
       "171877                       3.0        5.0          3.0    High/ Medium  ...   \n",
       "177509                       3.0        3.0          2.0    Medium/ High  ...   \n",
       "135507                       3.0        4.0          3.0    Medium/ High  ...   \n",
       "191043                       3.0        3.0          3.0      High/ High  ...   \n",
       "184087                       3.0        3.0          2.0  Medium/ Medium  ...   \n",
       "216594                       3.0        3.0          4.0    High/ Medium  ...   \n",
       "189513                       2.0        4.0          3.0     Medium/ Low  ...   \n",
       "180930                       3.0        5.0          2.0  Medium/ Medium  ...   \n",
       "\n",
       "       Composure Marking  StandingTackle SlidingTackle  GKDiving  GKHandling  \\\n",
       "ID                                                                             \n",
       "193080      68.0    15.0            21.0          13.0      90.0        85.0   \n",
       "183277      91.0    34.0            27.0          22.0      11.0        12.0   \n",
       "177003      84.0    60.0            76.0          73.0      13.0         9.0   \n",
       "155862      82.0    87.0            92.0          91.0      11.0         8.0   \n",
       "168542      93.0    59.0            53.0          29.0       6.0        15.0   \n",
       "179813      82.0    52.0            45.0          39.0      12.0         5.0   \n",
       "138956      84.0    93.0            93.0          90.0       3.0         3.0   \n",
       "190460      88.0    59.0            57.0          22.0       9.0        14.0   \n",
       "164240      81.0    88.0            89.0          85.0       9.0        12.0   \n",
       "193041      67.0    28.0            14.0          14.0      90.0        81.0   \n",
       "189332      79.0    72.0            84.0          85.0      13.0        15.0   \n",
       "175943      81.0    25.0            40.0          40.0       7.0        10.0   \n",
       "171877      84.0    75.0            73.0          62.0       8.0         6.0   \n",
       "177509      82.0    89.0            87.0          85.0       7.0         4.0   \n",
       "135507      79.0    85.0            85.0          80.0      12.0        11.0   \n",
       "191043      82.0    81.0            84.0          84.0       7.0         7.0   \n",
       "184087      81.0    90.0            91.0          86.0      16.0         6.0   \n",
       "216594      89.0    31.0            37.0          25.0      15.0         9.0   \n",
       "189513      78.0    69.0            68.0          60.0       5.0         9.0   \n",
       "180930      83.0    58.0            28.0          16.0       9.0        11.0   \n",
       "\n",
       "        GKKicking  GKPositioning  GKReflexes  Release Clause  \n",
       "ID                                                            \n",
       "193080       87.0           88.0        94.0     138600000.0  \n",
       "183277        6.0            8.0         8.0     172100000.0  \n",
       "177003        7.0           14.0         9.0     137400000.0  \n",
       "155862        9.0            7.0        11.0     104600000.0  \n",
       "168542        7.0            6.0        12.0     111000000.0  \n",
       "179813       13.0           13.0        10.0     111000000.0  \n",
       "138956        2.0            4.0         3.0      44600000.0  \n",
       "190460        7.0            7.0         6.0     141500000.0  \n",
       "164240        5.0            9.0        10.0      44400000.0  \n",
       "193041       75.0           82.0        90.0      62500000.0  \n",
       "189332       13.0            6.0        13.0      77900000.0  \n",
       "175943        8.0           10.0         4.0      76500000.0  \n",
       "171877        4.0           14.0        14.0      79100000.0  \n",
       "177509        8.0            7.0        11.0      49500000.0  \n",
       "135507        5.0           13.0         7.0      33300000.0  \n",
       "191043        9.0           12.0         5.0      60200000.0  \n",
       "184087       14.0           16.0        14.0      75100000.0  \n",
       "216594        8.0           14.0        15.0      98800000.0  \n",
       "189513       12.0           14.0         8.0      77700000.0  \n",
       "180930       13.0           15.0        15.0      51900000.0  \n",
       "\n",
       "[20 rows x 51 columns]"
      ]
     },
     "execution_count": 84,
     "metadata": {},
     "output_type": "execute_result"
    }
   ],
   "source": [
    "fifa_20"
   ]
  },
  {
   "cell_type": "markdown",
   "metadata": {},
   "source": [
    "a)\tWhat would the average wage for this set of players be?"
   ]
  },
  {
   "cell_type": "code",
   "execution_count": 85,
   "metadata": {},
   "outputs": [
    {
     "data": {
      "text/plain": [
       "205150.0"
      ]
     },
     "execution_count": 85,
     "metadata": {},
     "output_type": "execute_result"
    }
   ],
   "source": [
    "fifa_20['Wage'].mean()"
   ]
  },
  {
   "cell_type": "markdown",
   "metadata": {},
   "source": [
    "b)\tWhat is the average age?"
   ]
  },
  {
   "cell_type": "code",
   "execution_count": 86,
   "metadata": {},
   "outputs": [
    {
     "data": {
      "text/plain": [
       "29.95"
      ]
     },
     "execution_count": 86,
     "metadata": {},
     "output_type": "execute_result"
    }
   ],
   "source": [
    "fifa_20['Age'].mean()"
   ]
  },
  {
   "cell_type": "markdown",
   "metadata": {},
   "source": [
    "c)\tIs there a correlation between the Overall rating and Value for these players?"
   ]
  },
  {
   "cell_type": "code",
   "execution_count": 87,
   "metadata": {},
   "outputs": [
    {
     "data": {
      "text/html": [
       "<div>\n",
       "<style scoped>\n",
       "    .dataframe tbody tr th:only-of-type {\n",
       "        vertical-align: middle;\n",
       "    }\n",
       "\n",
       "    .dataframe tbody tr th {\n",
       "        vertical-align: top;\n",
       "    }\n",
       "\n",
       "    .dataframe thead th {\n",
       "        text-align: right;\n",
       "    }\n",
       "</style>\n",
       "<table border=\"1\" class=\"dataframe\">\n",
       "  <thead>\n",
       "    <tr style=\"text-align: right;\">\n",
       "      <th></th>\n",
       "      <th>Overall</th>\n",
       "      <th>Value</th>\n",
       "    </tr>\n",
       "  </thead>\n",
       "  <tbody>\n",
       "    <tr>\n",
       "      <th>Overall</th>\n",
       "      <td>1.000000</td>\n",
       "      <td>0.666788</td>\n",
       "    </tr>\n",
       "    <tr>\n",
       "      <th>Value</th>\n",
       "      <td>0.666788</td>\n",
       "      <td>1.000000</td>\n",
       "    </tr>\n",
       "  </tbody>\n",
       "</table>\n",
       "</div>"
      ],
      "text/plain": [
       "          Overall     Value\n",
       "Overall  1.000000  0.666788\n",
       "Value    0.666788  1.000000"
      ]
     },
     "execution_count": 87,
     "metadata": {},
     "output_type": "execute_result"
    }
   ],
   "source": [
    "fifa_20[['Overall','Value']].corr()"
   ]
  },
  {
   "cell_type": "markdown",
   "metadata": {},
   "source": [
    "yes there is a positive correlation between overall and value of 0.66"
   ]
  },
  {
   "cell_type": "markdown",
   "metadata": {},
   "source": [
    "4.\tGenerate tables containing the top 5 players by Overall rating for each unique position."
   ]
  },
  {
   "cell_type": "code",
   "execution_count": 113,
   "metadata": {},
   "outputs": [],
   "source": [
    "list1=['RF', 'ST', 'LW', 'GK', 'RCM', 'LF', 'RS', 'RCB', 'LCM', 'CB',\n",
    "       'LDM', 'CAM', 'CDM', 'LS', 'LCB', 'RM', 'LAM', 'LM', 'LB', 'RDM',\n",
    "       'RW', 'CM', 'RB', 'RAM', 'CF', 'RWB', 'LWB']\n",
    "d = {i: pd.DataFrame(fifa[fifa['Position']==i].sort_values('Overall',ascending=False)[:5]) for i in list1}\n"
   ]
  },
  {
   "cell_type": "markdown",
   "metadata": {},
   "source": [
    "a)\tAre there any players appearing in more than one Table. Please point out such players."
   ]
  },
  {
   "cell_type": "code",
   "execution_count": 127,
   "metadata": {},
   "outputs": [
    {
     "name": "stdout",
     "output_type": "stream",
     "text": [
      "[158023, 175943, 172114, 150516, 201313, 20801, 188545, 202126, 153079, 173731, 190871, 197781, 189242, 198219, 222492, 193080, 200389, 192448, 192119, 167495, 192985, 177003, 168651, 212622, 208421, 183277, 211110, 41, 198164, 190577, 176580, 41236, 167397, 199451, 202685, 155862, 164240, 152729, 201535, 184344, 182521, 168542, 171877, 199556, 212198, 182493, 205600, 177509, 192366, 171919, 215914, 187961, 207865, 176266, 228702, 194765, 190460, 201942, 189596, 176635, 189511, 200145, 180206, 135507, 209499, 179813, 167664, 179844, 143076, 208093, 138956, 178603, 201024, 172871, 203376, 231747, 209331, 204970, 185020, 183898, 198710, 199434, 230408, 230487, 230276, 188567, 190483, 188350, 208722, 193747, 176676, 189332, 191043, 197445, 164169, 195864, 190584, 193474, 53302, 183498, 218667, 202652, 220834, 184941, 204485, 189509, 223848, 205498, 186942, 220971, 184432, 188377, 204963, 199564, 177457, 193082, 208670, 230465, 230483, 230267, 198706, 184431, 205175, 187072, 144622, 207862, 180216, 203605, 197083, 221342, 200536, 208334, 223682, 210455, 214026]\n"
     ]
    },
    {
     "data": {
      "text/plain": [
       "135"
      ]
     },
     "execution_count": 127,
     "metadata": {},
     "output_type": "execute_result"
    }
   ],
   "source": [
    "players=[]\n",
    "for i in list1:\n",
    "    players.extend(d[i].index.tolist())\n",
    "print(players)\n",
    "len(players)"
   ]
  },
  {
   "cell_type": "code",
   "execution_count": 130,
   "metadata": {},
   "outputs": [
    {
     "data": {
      "text/plain": [
       "array([False, False, False, False, False, False, False, False, False,\n",
       "       False, False, False, False, False, False, False, False, False,\n",
       "       False, False, False, False, False, False, False, False, False,\n",
       "       False, False, False, False, False, False, False, False, False,\n",
       "       False, False, False, False, False, False, False, False, False,\n",
       "       False, False, False, False, False, False, False, False, False,\n",
       "       False, False, False, False, False, False, False, False, False,\n",
       "       False, False, False, False, False, False, False, False, False,\n",
       "       False, False, False, False, False, False, False, False, False,\n",
       "       False, False, False, False, False, False, False, False, False,\n",
       "       False, False, False, False, False, False, False, False, False,\n",
       "       False, False, False, False, False, False, False, False, False,\n",
       "       False, False, False, False, False, False, False, False, False,\n",
       "       False, False, False, False, False, False, False, False, False,\n",
       "       False, False, False, False, False, False, False, False, False])"
      ]
     },
     "execution_count": 130,
     "metadata": {},
     "output_type": "execute_result"
    }
   ],
   "source": [
    "q=pd.DataFrame()\n",
    "for i in list1:\n",
    "    q=q.append(d[i][['Overall','Position']])\n",
    "idx=q.index\n",
    "idx.duplicated(keep = False)"
   ]
  },
  {
   "cell_type": "markdown",
   "metadata": {},
   "source": [
    "there is no player who is appearing twice"
   ]
  },
  {
   "cell_type": "markdown",
   "metadata": {},
   "source": [
    "b)\tWhat is the average wage one can expect to pay for the top 5 in every position?"
   ]
  },
  {
   "cell_type": "code",
   "execution_count": 89,
   "metadata": {},
   "outputs": [
    {
     "name": "stdout",
     "output_type": "stream",
     "text": [
      "        Overall Position\n",
      "ID                      \n",
      "158023       94       RF\n",
      "175943       87       RF\n",
      "172114       80       RF\n",
      "150516       78       RF\n",
      "201313       75       RF\n",
      "the average wage one can expect to pay for the top 5 in  RF  position is  82.8\n",
      "        Overall Position\n",
      "ID                      \n",
      "20801        94       ST\n",
      "188545       90       ST\n",
      "202126       89       ST\n",
      "153079       89       ST\n",
      "173731       88       ST\n",
      "the average wage one can expect to pay for the top 5 in  ST  position is  90.0\n",
      "        Overall Position\n",
      "ID                      \n",
      "190871       92       LW\n",
      "197781       88       LW\n",
      "189242       88       LW\n",
      "198219       88       LW\n",
      "222492       86       LW\n",
      "the average wage one can expect to pay for the top 5 in  LW  position is  88.4\n",
      "        Overall Position\n",
      "ID                      \n",
      "193080       91       GK\n",
      "200389       90       GK\n",
      "192448       89       GK\n",
      "192119       89       GK\n",
      "167495       89       GK\n",
      "the average wage one can expect to pay for the top 5 in  GK  position is  89.6\n",
      "        Overall Position\n",
      "ID                      \n",
      "192985       91      RCM\n",
      "177003       91      RCM\n",
      "168651       87      RCM\n",
      "212622       85      RCM\n",
      "208421       85      RCM\n",
      "the average wage one can expect to pay for the top 5 in  RCM  position is  87.8\n",
      "        Overall Position\n",
      "ID                      \n",
      "183277       91       LF\n",
      "211110       89       LF\n",
      "41           86       LF\n",
      "198164       82       LF\n",
      "190577       76       LF\n",
      "the average wage one can expect to pay for the top 5 in  LF  position is  84.8\n",
      "        Overall Position\n",
      "ID                      \n",
      "176580       91       RS\n",
      "41236        85       RS\n",
      "167397       84       RS\n",
      "199451       82       RS\n",
      "202685       81       RS\n",
      "the average wage one can expect to pay for the top 5 in  RS  position is  84.6\n",
      "        Overall Position\n",
      "ID                      \n",
      "155862       91      RCB\n",
      "164240       88      RCB\n",
      "152729       87      RCB\n",
      "201535       86      RCB\n",
      "184344       86      RCB\n",
      "the average wage one can expect to pay for the top 5 in  RCB  position is  87.6\n",
      "        Overall Position\n",
      "ID                      \n",
      "182521       90      LCM\n",
      "168542       90      LCM\n",
      "171877       87      LCM\n",
      "199556       86      LCM\n",
      "212198       84      LCM\n",
      "the average wage one can expect to pay for the top 5 in  LCM  position is  87.4\n",
      "        Overall Position\n",
      "ID                      \n",
      "182493       90       CB\n",
      "205600       87       CB\n",
      "177509       86       CB\n",
      "192366       85       CB\n",
      "171919       85       CB\n",
      "the average wage one can expect to pay for the top 5 in  CB  position is  86.6\n",
      "        Overall Position\n",
      "ID                      \n",
      "215914       89      LDM\n",
      "187961       85      LDM\n",
      "207865       84      LDM\n",
      "176266       83      LDM\n",
      "228702       81      LDM\n",
      "the average wage one can expect to pay for the top 5 in  LDM  position is  84.4\n",
      "        Overall Position\n",
      "ID                      \n",
      "194765       89      CAM\n",
      "190460       88      CAM\n",
      "201942       86      CAM\n",
      "189596       86      CAM\n",
      "176635       86      CAM\n",
      "the average wage one can expect to pay for the top 5 in  CAM  position is  87.0\n",
      "        Overall Position\n",
      "ID                      \n",
      "189511       89      CDM\n",
      "200145       88      CDM\n",
      "180206       86      CDM\n",
      "135507       86      CDM\n",
      "209499       84      CDM\n",
      "the average wage one can expect to pay for the top 5 in  CDM  position is  86.6\n",
      "        Overall Position\n",
      "ID                      \n",
      "179813       89       LS\n",
      "167664       88       LS\n",
      "179844       85       LS\n",
      "143076       84       LS\n",
      "208093       83       LS\n",
      "the average wage one can expect to pay for the top 5 in  LS  position is  85.8\n",
      "        Overall Position\n",
      "ID                      \n",
      "138956       89      LCB\n",
      "178603       88      LCB\n",
      "201024       87      LCB\n",
      "172871       87      LCB\n",
      "203376       86      LCB\n",
      "the average wage one can expect to pay for the top 5 in  LCB  position is  87.4\n",
      "        Overall Position\n",
      "ID                      \n",
      "231747       88       RM\n",
      "209331       88       RM\n",
      "204970       84       RM\n",
      "185020       84       RM\n",
      "183898       84       RM\n",
      "the average wage one can expect to pay for the top 5 in  RM  position is  85.6\n",
      "        Overall Position\n",
      "ID                      \n",
      "198710       88      LAM\n",
      "199434       81      LAM\n",
      "230408       75      LAM\n",
      "230487       74      LAM\n",
      "230276       74      LAM\n",
      "the average wage one can expect to pay for the top 5 in  LAM  position is  78.4\n",
      "        Overall Position\n",
      "ID                      \n",
      "188567       88       LM\n",
      "190483       86       LM\n",
      "188350       86       LM\n",
      "208722       86       LM\n",
      "193747       85       LM\n",
      "the average wage one can expect to pay for the top 5 in  LM  position is  86.2\n",
      "        Overall Position\n",
      "ID                      \n",
      "176676       88       LB\n",
      "189332       87       LB\n",
      "191043       86       LB\n",
      "197445       85       LB\n",
      "164169       85       LB\n",
      "the average wage one can expect to pay for the top 5 in  LB  position is  86.2\n",
      "        Overall Position\n",
      "ID                      \n",
      "195864       87      RDM\n",
      "190584       84      RDM\n",
      "193474       83      RDM\n",
      "53302        83      RDM\n",
      "183498       82      RDM\n",
      "the average wage one can expect to pay for the top 5 in  RDM  position is  83.8\n",
      "        Overall Position\n",
      "ID                      \n",
      "218667       86       RW\n",
      "202652       86       RW\n",
      "220834       85       RW\n",
      "184941       85       RW\n",
      "204485       85       RW\n",
      "the average wage one can expect to pay for the top 5 in  RW  position is  85.4\n",
      "        Overall Position\n",
      "ID                      \n",
      "189509       86       CM\n",
      "223848       85       CM\n",
      "205498       84       CM\n",
      "186942       84       CM\n",
      "220971       83       CM\n",
      "the average wage one can expect to pay for the top 5 in  CM  position is  84.4\n",
      "        Overall Position\n",
      "ID                      \n",
      "184432       86       RB\n",
      "188377       84       RB\n",
      "204963       84       RB\n",
      "199564       83       RB\n",
      "177457       83       RB\n",
      "the average wage one can expect to pay for the top 5 in  RB  position is  84.0\n",
      "        Overall Position\n",
      "ID                      \n",
      "193082       84      RAM\n",
      "208670       83      RAM\n",
      "230465       75      RAM\n",
      "230483       74      RAM\n",
      "230267       74      RAM\n",
      "the average wage one can expect to pay for the top 5 in  RAM  position is  78.0\n",
      "        Overall Position\n",
      "ID                      \n",
      "198706       82       CF\n",
      "184431       82       CF\n",
      "205175       81       CF\n",
      "187072       81       CF\n",
      "144622       81       CF\n",
      "the average wage one can expect to pay for the top 5 in  CF  position is  81.4\n",
      "        Overall Position\n",
      "ID                      \n",
      "207862       80      RWB\n",
      "180216       80      RWB\n",
      "203605       80      RWB\n",
      "197083       79      RWB\n",
      "221342       78      RWB\n",
      "the average wage one can expect to pay for the top 5 in  RWB  position is  79.4\n",
      "        Overall Position\n",
      "ID                      \n",
      "200536       80      LWB\n",
      "208334       79      LWB\n",
      "223682       79      LWB\n",
      "210455       79      LWB\n",
      "214026       78      LWB\n",
      "the average wage one can expect to pay for the top 5 in  LWB  position is  79.0\n"
     ]
    }
   ],
   "source": [
    "for i in list1:\n",
    "    print(d[i][['Overall','Position']])\n",
    "    print('the average wage one can expect to pay for the top 5 in ',i,' position is ',d[i]['Overall'].mean())"
   ]
  },
  {
   "cell_type": "code",
   "execution_count": null,
   "metadata": {},
   "outputs": [],
   "source": []
  }
 ],
 "metadata": {
  "kernelspec": {
   "display_name": "Python 3",
   "language": "python",
   "name": "python3"
  },
  "language_info": {
   "codemirror_mode": {
    "name": "ipython",
    "version": 3
   },
   "file_extension": ".py",
   "mimetype": "text/x-python",
   "name": "python",
   "nbconvert_exporter": "python",
   "pygments_lexer": "ipython3",
   "version": "3.8.3"
  }
 },
 "nbformat": 4,
 "nbformat_minor": 4
}
